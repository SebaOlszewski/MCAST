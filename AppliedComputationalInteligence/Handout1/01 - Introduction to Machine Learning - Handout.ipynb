{
 "cells": [
  {
   "cell_type": "markdown",
   "metadata": {
    "slideshow": {
     "slide_type": "slide"
    }
   },
   "source": [
    "# Introduction to Machine Learning\n",
    "***\n",
    "### Applied Computational Intelligence"
   ]
  },
  {
   "cell_type": "markdown",
   "metadata": {
    "slideshow": {
     "slide_type": "slide"
    }
   },
   "source": [
    "This course will gradually build from Python concepts to training and using a machine learning model. This course is based on selected topics from Microsoft's __[certification](https://docs.microsoft.com/en-us/learn/certifications/azure-data-scientist/?source=learn)__.\n",
    "\n",
    "For this unit it is suggested to use VSCode and follow the exercises using a Jupyter Notebook.\n",
    "\n",
    "For markdown you can use this __[link](https://www.markdownguide.org/cheat-sheet/)__.\n",
    "\n",
    "## Lists\n",
    "\n",
    "Most of the work in data science is done using lists and operations on them. A list can be compared to an array, it contains a number of elements.\n",
    "\n",
    "Let's create a list called `data` and populate it with __5__ values that represent total ice creams sold per day."
   ]
  },
  {
   "cell_type": "code",
   "execution_count": 159,
   "metadata": {
    "slideshow": {
     "slide_type": "slide"
    }
   },
   "outputs": [
    {
     "name": "stdout",
     "output_type": "stream",
     "text": [
      "[90, 30, 30, 50, 70]\n"
     ]
    }
   ],
   "source": [
    "import numpy as np\n",
    "import pandas as pd\n",
    "data = [90, 30, 30, 50, 70]\n",
    "print(data)"
   ]
  },
  {
   "cell_type": "markdown",
   "metadata": {
    "slideshow": {
     "slide_type": "subslide"
    }
   },
   "source": [
    "The sales are now stored in the list `data`. This is good for general manipulation, but not ideal for numerical analysis.\n"
   ]
  },
  {
   "cell_type": "markdown",
   "metadata": {
    "slideshow": {
     "slide_type": "slide"
    }
   },
   "source": [
    "So, let's convert this list to a __NumPy__ array.\n",
    "\n",
    "__Note__ : library `numpy` must be installed."
   ]
  },
  {
   "cell_type": "code",
   "execution_count": 160,
   "metadata": {
    "slideshow": {
     "slide_type": "fragment"
    }
   },
   "outputs": [],
   "source": [
    "#this get rides of the comas between the data values\n",
    "sales = np.array(data)\n"
   ]
  },
  {
   "cell_type": "markdown",
   "metadata": {
    "slideshow": {
     "slide_type": "fragment"
    }
   },
   "source": [
    "As you can see the output of the list and and the numpy array is identical except for the commas. But, the way they are used is different. \n",
    "\n",
    "Let's do an operation to highlight this difference."
   ]
  },
  {
   "cell_type": "code",
   "execution_count": 161,
   "metadata": {
    "slideshow": {
     "slide_type": "slide"
    }
   },
   "outputs": [
    {
     "name": "stdout",
     "output_type": "stream",
     "text": [
      "[90, 30, 30, 50, 70]\n",
      "[90 30 30 50 70]\n"
     ]
    }
   ],
   "source": [
    "print(data)\n",
    "print(sales)"
   ]
  },
  {
   "cell_type": "markdown",
   "metadata": {
    "slideshow": {
     "slide_type": "fragment"
    }
   },
   "source": [
    "When the list was multiplied by two, all the values were copied and appeneded to the end of the list. But, when numpy array was multiplied by two, each element was actually multiplied by 2. This makes numpy arrays better suited for numerical analysis.\n",
    "\n",
    "We can also check the shape of the array to determine its size."
   ]
  },
  {
   "cell_type": "code",
   "execution_count": 162,
   "metadata": {
    "slideshow": {
     "slide_type": "fragment"
    }
   },
   "outputs": [
    {
     "name": "stdout",
     "output_type": "stream",
     "text": [
      "<class 'numpy.ndarray'> [180  60  60 100 140]\n",
      "<class 'list'> [90, 30, 30, 50, 70, 90, 30, 30, 50, 70]\n"
     ]
    },
    {
     "data": {
      "text/plain": [
       "(5,)"
      ]
     },
     "execution_count": 162,
     "metadata": {},
     "output_type": "execute_result"
    }
   ],
   "source": [
    "print(type(sales), sales*2)\n",
    "print(type(data), data*2)\n",
    "\n",
    "sales.shape\n",
    "#print(data.shape)\n"
   ]
  },
  {
   "cell_type": "markdown",
   "metadata": {
    "slideshow": {
     "slide_type": "fragment"
    }
   },
   "source": [
    "This shows us that there are 5 elements. Each of these elements can be accessed by using its index (starting from zero).\n",
    "\n",
    "In the following example, we will choose the first, third, and fifth elements."
   ]
  },
  {
   "cell_type": "code",
   "execution_count": 163,
   "metadata": {
    "slideshow": {
     "slide_type": "fragment"
    }
   },
   "outputs": [
    {
     "name": "stdout",
     "output_type": "stream",
     "text": [
      "90\n",
      "30\n",
      "70\n"
     ]
    }
   ],
   "source": [
    "print(sales[0])\n",
    "print(sales[2])\n",
    "print(sales[4])"
   ]
  },
  {
   "cell_type": "markdown",
   "metadata": {
    "slideshow": {
     "slide_type": "slide"
    }
   },
   "source": [
    "Since it's a numpy array, mathemtical analysis can also be performed. For instance, the average can be calculated by using the `mean` function."
   ]
  },
  {
   "cell_type": "code",
   "execution_count": 164,
   "metadata": {
    "slideshow": {
     "slide_type": "subslide"
    }
   },
   "outputs": [
    {
     "data": {
      "text/plain": [
       "54.0"
      ]
     },
     "execution_count": 164,
     "metadata": {},
     "output_type": "execute_result"
    }
   ],
   "source": [
    "sales.mean()"
   ]
  },
  {
   "cell_type": "markdown",
   "metadata": {
    "slideshow": {
     "slide_type": "slide"
    }
   },
   "source": [
    "Let's add create another array `temperature` storing the temperature when the sales were made. Then, the sales and daily temperatures are combined into a single array named `total`."
   ]
  },
  {
   "cell_type": "code",
   "execution_count": 165,
   "metadata": {
    "slideshow": {
     "slide_type": "fragment"
    }
   },
   "outputs": [
    {
     "data": {
      "text/plain": [
       "array([[40, 29, 30, 34, 38],\n",
       "       [90, 30, 30, 50, 70]])"
      ]
     },
     "execution_count": 165,
     "metadata": {},
     "output_type": "execute_result"
    }
   ],
   "source": [
    "temperature = np.array([40, 29, 30, 34, 38])\n",
    "total = np.array([temperature, sales])\n",
    "\n",
    "total"
   ]
  },
  {
   "cell_type": "markdown",
   "metadata": {
    "slideshow": {
     "slide_type": "fragment"
    }
   },
   "source": [
    "We can also check it's shape. This will return `(2, 5)`, meaning there are two elements, and each of these elements contains 5 elements."
   ]
  },
  {
   "cell_type": "code",
   "execution_count": 166,
   "metadata": {
    "slideshow": {
     "slide_type": "fragment"
    }
   },
   "outputs": [
    {
     "data": {
      "text/plain": [
       "(2, 5)"
      ]
     },
     "execution_count": 166,
     "metadata": {},
     "output_type": "execute_result"
    }
   ],
   "source": [
    "total.shape"
   ]
  },
  {
   "cell_type": "markdown",
   "metadata": {
    "slideshow": {
     "slide_type": "fragment"
    }
   },
   "source": [
    "This time individual data can be accessed by using two-dimensional indexes. \n",
    "\n",
    "The following example will return the first element in the first element (temperature)."
   ]
  },
  {
   "cell_type": "code",
   "execution_count": 167,
   "metadata": {
    "slideshow": {
     "slide_type": "fragment"
    }
   },
   "outputs": [
    {
     "name": "stdout",
     "output_type": "stream",
     "text": [
      "[[40 29 30 34 38]\n",
      " [90 30 30 50 70]]\n"
     ]
    },
    {
     "data": {
      "text/plain": [
       "40"
      ]
     },
     "execution_count": 167,
     "metadata": {},
     "output_type": "execute_result"
    }
   ],
   "source": [
    "print(total)\n",
    "total[0][0]"
   ]
  },
  {
   "cell_type": "markdown",
   "metadata": {
    "slideshow": {
     "slide_type": "slide"
    }
   },
   "source": [
    "We can now compare the average temperature, with the average sales."
   ]
  },
  {
   "cell_type": "code",
   "execution_count": 168,
   "metadata": {
    "slideshow": {
     "slide_type": "fragment"
    }
   },
   "outputs": [
    {
     "name": "stdout",
     "output_type": "stream",
     "text": [
      "Average temperature:  34.2\n",
      "Average sales:  54.0\n"
     ]
    }
   ],
   "source": [
    "print('Average temperature: ',total[0].mean())\n",
    "print('Average sales: ',total[1].mean())\n"
   ]
  },
  {
   "cell_type": "markdown",
   "metadata": {
    "slideshow": {
     "slide_type": "fragment"
    }
   },
   "source": [
    "When printing formatting can be used to have more control on the output __[more info](https://docs.python.org/3/tutorial/inputoutput.html)__."
   ]
  },
  {
   "cell_type": "code",
   "execution_count": 169,
   "metadata": {
    "slideshow": {
     "slide_type": "fragment"
    }
   },
   "outputs": [
    {
     "name": "stdout",
     "output_type": "stream",
     "text": [
      "Average temperature: 34.2\n",
      "Average sales: 54.0\n"
     ]
    }
   ],
   "source": [
    "print('Average temperature: {:.1f}\\nAverage sales: {:.1f}'.format(total[0].mean(), total[1].mean()))"
   ]
  },
  {
   "cell_type": "markdown",
   "metadata": {
    "slideshow": {
     "slide_type": "slide"
    }
   },
   "source": [
    "## Exploring tabular Data \n",
    "\n",
    "Although `NumPy` is good to work with arrays, most of the time data is presented in a tabular manner, and for that reason, it's ideal to use `Pandas`' __DataFrame__ which offers greater flexibility.\n",
    "\n",
    "__Note__ : library `pandas` must be installed.\n",
    "\n",
    "The following example will create a new DataFrame with three columns; Date, Temperature, and Sales."
   ]
  },
  {
   "cell_type": "code",
   "execution_count": 170,
   "metadata": {
    "slideshow": {
     "slide_type": "subslide"
    }
   },
   "outputs": [
    {
     "data": {
      "text/html": [
       "<div>\n",
       "<style scoped>\n",
       "    .dataframe tbody tr th:only-of-type {\n",
       "        vertical-align: middle;\n",
       "    }\n",
       "\n",
       "    .dataframe tbody tr th {\n",
       "        vertical-align: top;\n",
       "    }\n",
       "\n",
       "    .dataframe thead th {\n",
       "        text-align: right;\n",
       "    }\n",
       "</style>\n",
       "<table border=\"1\" class=\"dataframe\">\n",
       "  <thead>\n",
       "    <tr style=\"text-align: right;\">\n",
       "      <th></th>\n",
       "      <th>Date</th>\n",
       "      <th>Temperature</th>\n",
       "      <th>Sales</th>\n",
       "    </tr>\n",
       "  </thead>\n",
       "  <tbody>\n",
       "    <tr>\n",
       "      <th>0</th>\n",
       "      <td>02-08-2021</td>\n",
       "      <td>40</td>\n",
       "      <td>90</td>\n",
       "    </tr>\n",
       "    <tr>\n",
       "      <th>1</th>\n",
       "      <td>03-08-2021</td>\n",
       "      <td>29</td>\n",
       "      <td>30</td>\n",
       "    </tr>\n",
       "    <tr>\n",
       "      <th>2</th>\n",
       "      <td>04-08-2021</td>\n",
       "      <td>30</td>\n",
       "      <td>30</td>\n",
       "    </tr>\n",
       "    <tr>\n",
       "      <th>3</th>\n",
       "      <td>05-08-2021</td>\n",
       "      <td>34</td>\n",
       "      <td>50</td>\n",
       "    </tr>\n",
       "    <tr>\n",
       "      <th>4</th>\n",
       "      <td>06-08-2021</td>\n",
       "      <td>38</td>\n",
       "      <td>70</td>\n",
       "    </tr>\n",
       "  </tbody>\n",
       "</table>\n",
       "</div>"
      ],
      "text/plain": [
       "         Date  Temperature  Sales\n",
       "0  02-08-2021           40     90\n",
       "1  03-08-2021           29     30\n",
       "2  04-08-2021           30     30\n",
       "3  05-08-2021           34     50\n",
       "4  06-08-2021           38     70"
      ]
     },
     "execution_count": 170,
     "metadata": {},
     "output_type": "execute_result"
    }
   ],
   "source": [
    "import pandas as pd\n",
    "\n",
    "df_sales = pd.DataFrame({\n",
    "    'Date': ['02-08-2021','03-08-2021','04-08-2021','05-08-2021','06-08-2021'],\n",
    "    'Temperature': total[0],\n",
    "    'Sales': total[1]\n",
    "})\n",
    "\n",
    "df_sales"
   ]
  },
  {
   "cell_type": "markdown",
   "metadata": {
    "slideshow": {
     "slide_type": "fragment"
    }
   },
   "source": [
    "Apart from the specified columns the DataFrame also includes an unique index to each row on the table. This can be specified when the table is created (like a username, or an email) but since it was not specified a number was generated. This can be done using `set_index`."
   ]
  },
  {
   "cell_type": "code",
   "execution_count": 171,
   "metadata": {
    "slideshow": {
     "slide_type": "fragment"
    }
   },
   "outputs": [
    {
     "data": {
      "text/html": [
       "<div>\n",
       "<style scoped>\n",
       "    .dataframe tbody tr th:only-of-type {\n",
       "        vertical-align: middle;\n",
       "    }\n",
       "\n",
       "    .dataframe tbody tr th {\n",
       "        vertical-align: top;\n",
       "    }\n",
       "\n",
       "    .dataframe thead th {\n",
       "        text-align: right;\n",
       "    }\n",
       "</style>\n",
       "<table border=\"1\" class=\"dataframe\">\n",
       "  <thead>\n",
       "    <tr style=\"text-align: right;\">\n",
       "      <th></th>\n",
       "      <th>Temperature</th>\n",
       "      <th>Sales</th>\n",
       "    </tr>\n",
       "    <tr>\n",
       "      <th>Date</th>\n",
       "      <th></th>\n",
       "      <th></th>\n",
       "    </tr>\n",
       "  </thead>\n",
       "  <tbody>\n",
       "    <tr>\n",
       "      <th>02-08-2021</th>\n",
       "      <td>40</td>\n",
       "      <td>90</td>\n",
       "    </tr>\n",
       "    <tr>\n",
       "      <th>03-08-2021</th>\n",
       "      <td>29</td>\n",
       "      <td>30</td>\n",
       "    </tr>\n",
       "    <tr>\n",
       "      <th>04-08-2021</th>\n",
       "      <td>30</td>\n",
       "      <td>30</td>\n",
       "    </tr>\n",
       "    <tr>\n",
       "      <th>05-08-2021</th>\n",
       "      <td>34</td>\n",
       "      <td>50</td>\n",
       "    </tr>\n",
       "    <tr>\n",
       "      <th>06-08-2021</th>\n",
       "      <td>38</td>\n",
       "      <td>70</td>\n",
       "    </tr>\n",
       "  </tbody>\n",
       "</table>\n",
       "</div>"
      ],
      "text/plain": [
       "            Temperature  Sales\n",
       "Date                          \n",
       "02-08-2021           40     90\n",
       "03-08-2021           29     30\n",
       "04-08-2021           30     30\n",
       "05-08-2021           34     50\n",
       "06-08-2021           38     70"
      ]
     },
     "execution_count": 171,
     "metadata": {},
     "output_type": "execute_result"
    }
   ],
   "source": [
    "df_sales = df_sales.set_index('Date')\n",
    "df_sales"
   ]
  },
  {
   "cell_type": "markdown",
   "metadata": {
    "slideshow": {
     "slide_type": "fragment"
    }
   },
   "source": [
    "We can change back the index to numbers using `reset_index`. "
   ]
  },
  {
   "cell_type": "code",
   "execution_count": 172,
   "metadata": {
    "slideshow": {
     "slide_type": "fragment"
    }
   },
   "outputs": [
    {
     "data": {
      "text/html": [
       "<div>\n",
       "<style scoped>\n",
       "    .dataframe tbody tr th:only-of-type {\n",
       "        vertical-align: middle;\n",
       "    }\n",
       "\n",
       "    .dataframe tbody tr th {\n",
       "        vertical-align: top;\n",
       "    }\n",
       "\n",
       "    .dataframe thead th {\n",
       "        text-align: right;\n",
       "    }\n",
       "</style>\n",
       "<table border=\"1\" class=\"dataframe\">\n",
       "  <thead>\n",
       "    <tr style=\"text-align: right;\">\n",
       "      <th></th>\n",
       "      <th>Date</th>\n",
       "      <th>Temperature</th>\n",
       "      <th>Sales</th>\n",
       "    </tr>\n",
       "  </thead>\n",
       "  <tbody>\n",
       "    <tr>\n",
       "      <th>0</th>\n",
       "      <td>02-08-2021</td>\n",
       "      <td>40</td>\n",
       "      <td>90</td>\n",
       "    </tr>\n",
       "    <tr>\n",
       "      <th>1</th>\n",
       "      <td>03-08-2021</td>\n",
       "      <td>29</td>\n",
       "      <td>30</td>\n",
       "    </tr>\n",
       "    <tr>\n",
       "      <th>2</th>\n",
       "      <td>04-08-2021</td>\n",
       "      <td>30</td>\n",
       "      <td>30</td>\n",
       "    </tr>\n",
       "    <tr>\n",
       "      <th>3</th>\n",
       "      <td>05-08-2021</td>\n",
       "      <td>34</td>\n",
       "      <td>50</td>\n",
       "    </tr>\n",
       "    <tr>\n",
       "      <th>4</th>\n",
       "      <td>06-08-2021</td>\n",
       "      <td>38</td>\n",
       "      <td>70</td>\n",
       "    </tr>\n",
       "  </tbody>\n",
       "</table>\n",
       "</div>"
      ],
      "text/plain": [
       "         Date  Temperature  Sales\n",
       "0  02-08-2021           40     90\n",
       "1  03-08-2021           29     30\n",
       "2  04-08-2021           30     30\n",
       "3  05-08-2021           34     50\n",
       "4  06-08-2021           38     70"
      ]
     },
     "execution_count": 172,
     "metadata": {},
     "output_type": "execute_result"
    }
   ],
   "source": [
    "df_sales = df_sales.reset_index()\n",
    "df_sales"
   ]
  },
  {
   "cell_type": "markdown",
   "metadata": {
    "slideshow": {
     "slide_type": "subslide"
    }
   },
   "source": [
    "To access the data in the DataFrame, `loc` can be used. This will retrieve the record based on the index specified in the brackets.\n",
    "\n",
    "The following example will return the student with index value of `3`."
   ]
  },
  {
   "cell_type": "code",
   "execution_count": 173,
   "metadata": {
    "slideshow": {
     "slide_type": "fragment"
    }
   },
   "outputs": [
    {
     "data": {
      "text/plain": [
       "Date           05-08-2021\n",
       "Temperature            34\n",
       "Sales                  50\n",
       "Name: 3, dtype: object"
      ]
     },
     "execution_count": 173,
     "metadata": {},
     "output_type": "execute_result"
    }
   ],
   "source": [
    "df_sales.loc[3]"
   ]
  },
  {
   "cell_type": "markdown",
   "metadata": {
    "slideshow": {
     "slide_type": "fragment"
    }
   },
   "source": [
    "A range of indexes can also be used.\n",
    "\n",
    "The following example will return the sales with index values of 0, 1, and 2."
   ]
  },
  {
   "cell_type": "code",
   "execution_count": 174,
   "metadata": {
    "slideshow": {
     "slide_type": "fragment"
    }
   },
   "outputs": [
    {
     "data": {
      "text/html": [
       "<div>\n",
       "<style scoped>\n",
       "    .dataframe tbody tr th:only-of-type {\n",
       "        vertical-align: middle;\n",
       "    }\n",
       "\n",
       "    .dataframe tbody tr th {\n",
       "        vertical-align: top;\n",
       "    }\n",
       "\n",
       "    .dataframe thead th {\n",
       "        text-align: right;\n",
       "    }\n",
       "</style>\n",
       "<table border=\"1\" class=\"dataframe\">\n",
       "  <thead>\n",
       "    <tr style=\"text-align: right;\">\n",
       "      <th></th>\n",
       "      <th>Date</th>\n",
       "      <th>Temperature</th>\n",
       "      <th>Sales</th>\n",
       "    </tr>\n",
       "  </thead>\n",
       "  <tbody>\n",
       "    <tr>\n",
       "      <th>0</th>\n",
       "      <td>02-08-2021</td>\n",
       "      <td>40</td>\n",
       "      <td>90</td>\n",
       "    </tr>\n",
       "    <tr>\n",
       "      <th>1</th>\n",
       "      <td>03-08-2021</td>\n",
       "      <td>29</td>\n",
       "      <td>30</td>\n",
       "    </tr>\n",
       "    <tr>\n",
       "      <th>2</th>\n",
       "      <td>04-08-2021</td>\n",
       "      <td>30</td>\n",
       "      <td>30</td>\n",
       "    </tr>\n",
       "    <tr>\n",
       "      <th>3</th>\n",
       "      <td>05-08-2021</td>\n",
       "      <td>34</td>\n",
       "      <td>50</td>\n",
       "    </tr>\n",
       "  </tbody>\n",
       "</table>\n",
       "</div>"
      ],
      "text/plain": [
       "         Date  Temperature  Sales\n",
       "0  02-08-2021           40     90\n",
       "1  03-08-2021           29     30\n",
       "2  04-08-2021           30     30\n",
       "3  05-08-2021           34     50"
      ]
     },
     "execution_count": 174,
     "metadata": {},
     "output_type": "execute_result"
    }
   ],
   "source": [
    "df_sales.loc[0:3]"
   ]
  },
  {
   "cell_type": "markdown",
   "metadata": {
    "slideshow": {
     "slide_type": "slide"
    }
   },
   "source": [
    "Apart from using `loc`, `iloc` can also be used to find rows based on their position (not index)."
   ]
  },
  {
   "cell_type": "code",
   "execution_count": 175,
   "metadata": {
    "slideshow": {
     "slide_type": "subslide"
    }
   },
   "outputs": [
    {
     "data": {
      "text/html": [
       "<div>\n",
       "<style scoped>\n",
       "    .dataframe tbody tr th:only-of-type {\n",
       "        vertical-align: middle;\n",
       "    }\n",
       "\n",
       "    .dataframe tbody tr th {\n",
       "        vertical-align: top;\n",
       "    }\n",
       "\n",
       "    .dataframe thead th {\n",
       "        text-align: right;\n",
       "    }\n",
       "</style>\n",
       "<table border=\"1\" class=\"dataframe\">\n",
       "  <thead>\n",
       "    <tr style=\"text-align: right;\">\n",
       "      <th></th>\n",
       "      <th>Date</th>\n",
       "      <th>Temperature</th>\n",
       "      <th>Sales</th>\n",
       "    </tr>\n",
       "  </thead>\n",
       "  <tbody>\n",
       "    <tr>\n",
       "      <th>0</th>\n",
       "      <td>02-08-2021</td>\n",
       "      <td>40</td>\n",
       "      <td>90</td>\n",
       "    </tr>\n",
       "    <tr>\n",
       "      <th>1</th>\n",
       "      <td>03-08-2021</td>\n",
       "      <td>29</td>\n",
       "      <td>30</td>\n",
       "    </tr>\n",
       "  </tbody>\n",
       "</table>\n",
       "</div>"
      ],
      "text/plain": [
       "         Date  Temperature  Sales\n",
       "0  02-08-2021           40     90\n",
       "1  03-08-2021           29     30"
      ]
     },
     "execution_count": 175,
     "metadata": {},
     "output_type": "execute_result"
    }
   ],
   "source": [
    "df_sales.iloc[0:2]"
   ]
  },
  {
   "cell_type": "markdown",
   "metadata": {
    "slideshow": {
     "slide_type": "fragment"
    }
   },
   "source": [
    "As you can notice `loc` returned 3 rows, and `iloc` returned 2 rows. `iloc` returned 2 rows because Integer ranges do not include the upper-bound values. `iloc` can be used across rows, and columns.\n",
    "\n",
    " In the following example it will access the first row, and then the first two columns."
   ]
  },
  {
   "cell_type": "code",
   "execution_count": 176,
   "metadata": {
    "slideshow": {
     "slide_type": "slide"
    }
   },
   "outputs": [
    {
     "data": {
      "text/plain": [
       "Date           02-08-2021\n",
       "Temperature            40\n",
       "Name: 0, dtype: object"
      ]
     },
     "execution_count": 176,
     "metadata": {},
     "output_type": "execute_result"
    }
   ],
   "source": [
    "df_sales.iloc[0,[0,1]]"
   ]
  },
  {
   "cell_type": "markdown",
   "metadata": {
    "slideshow": {
     "slide_type": "fragment"
    }
   },
   "source": [
    "When using `loc`, columns can be identified by their name as well. "
   ]
  },
  {
   "cell_type": "code",
   "execution_count": 177,
   "metadata": {
    "slideshow": {
     "slide_type": "fragment"
    }
   },
   "outputs": [
    {
     "data": {
      "text/plain": [
       "40"
      ]
     },
     "execution_count": 177,
     "metadata": {},
     "output_type": "execute_result"
    }
   ],
   "source": [
    "df_sales.loc[0, 'Temperature']"
   ]
  },
  {
   "cell_type": "markdown",
   "metadata": {
    "slideshow": {
     "slide_type": "fragment"
    }
   },
   "source": [
    "Filtering can also be applied."
   ]
  },
  {
   "cell_type": "code",
   "execution_count": 178,
   "metadata": {
    "slideshow": {
     "slide_type": "fragment"
    }
   },
   "outputs": [
    {
     "data": {
      "text/plain": [
       "<pandas.core.indexing._LocIndexer at 0x14f019ee860>"
      ]
     },
     "execution_count": 178,
     "metadata": {},
     "output_type": "execute_result"
    }
   ],
   "source": [
    "df_sales.loc"
   ]
  },
  {
   "cell_type": "markdown",
   "metadata": {
    "slideshow": {
     "slide_type": "fragment"
    }
   },
   "source": [
    "When comparing strings remember to enclose in quotes."
   ]
  },
  {
   "cell_type": "code",
   "execution_count": 179,
   "metadata": {
    "slideshow": {
     "slide_type": "fragment"
    }
   },
   "outputs": [
    {
     "data": {
      "text/html": [
       "<div>\n",
       "<style scoped>\n",
       "    .dataframe tbody tr th:only-of-type {\n",
       "        vertical-align: middle;\n",
       "    }\n",
       "\n",
       "    .dataframe tbody tr th {\n",
       "        vertical-align: top;\n",
       "    }\n",
       "\n",
       "    .dataframe thead th {\n",
       "        text-align: right;\n",
       "    }\n",
       "</style>\n",
       "<table border=\"1\" class=\"dataframe\">\n",
       "  <thead>\n",
       "    <tr style=\"text-align: right;\">\n",
       "      <th></th>\n",
       "      <th>Date</th>\n",
       "      <th>Temperature</th>\n",
       "      <th>Sales</th>\n",
       "    </tr>\n",
       "  </thead>\n",
       "  <tbody>\n",
       "    <tr>\n",
       "      <th>1</th>\n",
       "      <td>03-08-2021</td>\n",
       "      <td>29</td>\n",
       "      <td>30</td>\n",
       "    </tr>\n",
       "  </tbody>\n",
       "</table>\n",
       "</div>"
      ],
      "text/plain": [
       "         Date  Temperature  Sales\n",
       "1  03-08-2021           29     30"
      ]
     },
     "execution_count": 179,
     "metadata": {},
     "output_type": "execute_result"
    }
   ],
   "source": [
    "df_sales.loc[df_sales['Temperature'] == 40]\n",
    "df_sales.loc[df_sales[\"Date\"] == '03-08-2021']"
   ]
  },
  {
   "cell_type": "markdown",
   "metadata": {
    "slideshow": {
     "slide_type": "fragment"
    }
   },
   "source": [
    "However, when filtering there is no need to use `loc`, it can be omitted."
   ]
  },
  {
   "cell_type": "code",
   "execution_count": 180,
   "metadata": {},
   "outputs": [
    {
     "data": {
      "text/html": [
       "<div>\n",
       "<style scoped>\n",
       "    .dataframe tbody tr th:only-of-type {\n",
       "        vertical-align: middle;\n",
       "    }\n",
       "\n",
       "    .dataframe tbody tr th {\n",
       "        vertical-align: top;\n",
       "    }\n",
       "\n",
       "    .dataframe thead th {\n",
       "        text-align: right;\n",
       "    }\n",
       "</style>\n",
       "<table border=\"1\" class=\"dataframe\">\n",
       "  <thead>\n",
       "    <tr style=\"text-align: right;\">\n",
       "      <th></th>\n",
       "      <th>Date</th>\n",
       "      <th>Temperature</th>\n",
       "      <th>Sales</th>\n",
       "    </tr>\n",
       "  </thead>\n",
       "  <tbody>\n",
       "    <tr>\n",
       "      <th>1</th>\n",
       "      <td>03-08-2021</td>\n",
       "      <td>29</td>\n",
       "      <td>30</td>\n",
       "    </tr>\n",
       "  </tbody>\n",
       "</table>\n",
       "</div>"
      ],
      "text/plain": [
       "         Date  Temperature  Sales\n",
       "1  03-08-2021           29     30"
      ]
     },
     "execution_count": 180,
     "metadata": {},
     "output_type": "execute_result"
    }
   ],
   "source": [
    "df_sales[df_sales[\"Date\"] == '03-08-2021']"
   ]
  },
  {
   "cell_type": "markdown",
   "metadata": {
    "slideshow": {
     "slide_type": "subslide"
    }
   },
   "source": [
    "Alternatively, one can also use the DataFrame's `query` method."
   ]
  },
  {
   "cell_type": "code",
   "execution_count": 181,
   "metadata": {
    "slideshow": {
     "slide_type": "fragment"
    }
   },
   "outputs": [
    {
     "data": {
      "text/html": [
       "<div>\n",
       "<style scoped>\n",
       "    .dataframe tbody tr th:only-of-type {\n",
       "        vertical-align: middle;\n",
       "    }\n",
       "\n",
       "    .dataframe tbody tr th {\n",
       "        vertical-align: top;\n",
       "    }\n",
       "\n",
       "    .dataframe thead th {\n",
       "        text-align: right;\n",
       "    }\n",
       "</style>\n",
       "<table border=\"1\" class=\"dataframe\">\n",
       "  <thead>\n",
       "    <tr style=\"text-align: right;\">\n",
       "      <th></th>\n",
       "      <th>Date</th>\n",
       "      <th>Temperature</th>\n",
       "      <th>Sales</th>\n",
       "    </tr>\n",
       "  </thead>\n",
       "  <tbody>\n",
       "    <tr>\n",
       "      <th>0</th>\n",
       "      <td>02-08-2021</td>\n",
       "      <td>40</td>\n",
       "      <td>90</td>\n",
       "    </tr>\n",
       "  </tbody>\n",
       "</table>\n",
       "</div>"
      ],
      "text/plain": [
       "         Date  Temperature  Sales\n",
       "0  02-08-2021           40     90"
      ]
     },
     "execution_count": 181,
     "metadata": {},
     "output_type": "execute_result"
    }
   ],
   "source": [
    "df_sales.query(\"Temperature==40\")"
   ]
  },
  {
   "cell_type": "markdown",
   "metadata": {
    "slideshow": {
     "slide_type": "subslide"
    }
   },
   "source": [
    "In Pandas, there is more than one way of doing the same thing, and this can be confusing. It's best to find your favourite approach and stick to it throughout.\n",
    "\n",
    "Another example, is that the column can be referenced directly by its name rathen than by its index."
   ]
  },
  {
   "cell_type": "code",
   "execution_count": 182,
   "metadata": {
    "slideshow": {
     "slide_type": "fragment"
    }
   },
   "outputs": [
    {
     "data": {
      "text/html": [
       "<div>\n",
       "<style scoped>\n",
       "    .dataframe tbody tr th:only-of-type {\n",
       "        vertical-align: middle;\n",
       "    }\n",
       "\n",
       "    .dataframe tbody tr th {\n",
       "        vertical-align: top;\n",
       "    }\n",
       "\n",
       "    .dataframe thead th {\n",
       "        text-align: right;\n",
       "    }\n",
       "</style>\n",
       "<table border=\"1\" class=\"dataframe\">\n",
       "  <thead>\n",
       "    <tr style=\"text-align: right;\">\n",
       "      <th></th>\n",
       "      <th>Date</th>\n",
       "      <th>Temperature</th>\n",
       "      <th>Sales</th>\n",
       "    </tr>\n",
       "  </thead>\n",
       "  <tbody>\n",
       "    <tr>\n",
       "      <th>0</th>\n",
       "      <td>02-08-2021</td>\n",
       "      <td>40</td>\n",
       "      <td>90</td>\n",
       "    </tr>\n",
       "  </tbody>\n",
       "</table>\n",
       "</div>"
      ],
      "text/plain": [
       "         Date  Temperature  Sales\n",
       "0  02-08-2021           40     90"
      ]
     },
     "execution_count": 182,
     "metadata": {},
     "output_type": "execute_result"
    }
   ],
   "source": [
    "df_sales[df_sales.Temperature == 40]"
   ]
  },
  {
   "cell_type": "code",
   "execution_count": 183,
   "metadata": {},
   "outputs": [],
   "source": [
    "#explanation of the code above ^    \n",
    "\n",
    "#df_sales.Temperature == 40\n",
    "\n",
    "#df_sales[[True,False,False,False,False]]"
   ]
  },
  {
   "cell_type": "markdown",
   "metadata": {
    "slideshow": {
     "slide_type": "slide"
    }
   },
   "source": [
    "## Loading a DataFrame from a file\n",
    "\n",
    "Up until now we have created our own data, but most of the time, data is obtained from various sources like relational databases, csv, text files, etc...\n",
    "\n",
    "DataFrame's `read_csv` method is used to load data from text files. You can specify the column delimiter, and whether the first row contains the headings. \n",
    "\n",
    "In this case we are specifying the name of the file `icecream.csv`, the values are separated by a comma, and the column titles can be obtained from the first row.\n",
    "\n",
    "__Note__ : __[read_csv](https://pandas.pydata.org/docs/reference/api/pandas.read_csv.html)__ documentation"
   ]
  },
  {
   "cell_type": "code",
   "execution_count": 184,
   "metadata": {
    "slideshow": {
     "slide_type": "slide"
    }
   },
   "outputs": [
    {
     "data": {
      "text/html": [
       "<div>\n",
       "<style scoped>\n",
       "    .dataframe tbody tr th:only-of-type {\n",
       "        vertical-align: middle;\n",
       "    }\n",
       "\n",
       "    .dataframe tbody tr th {\n",
       "        vertical-align: top;\n",
       "    }\n",
       "\n",
       "    .dataframe thead th {\n",
       "        text-align: right;\n",
       "    }\n",
       "</style>\n",
       "<table border=\"1\" class=\"dataframe\">\n",
       "  <thead>\n",
       "    <tr style=\"text-align: right;\">\n",
       "      <th></th>\n",
       "      <th>Date</th>\n",
       "      <th>Temperature</th>\n",
       "      <th>Sales</th>\n",
       "      <th>BreakDown</th>\n",
       "      <th>Area</th>\n",
       "    </tr>\n",
       "  </thead>\n",
       "  <tbody>\n",
       "    <tr>\n",
       "      <th>0</th>\n",
       "      <td>02/08/2021</td>\n",
       "      <td>40.0</td>\n",
       "      <td>72.0</td>\n",
       "      <td>No</td>\n",
       "      <td>A1</td>\n",
       "    </tr>\n",
       "    <tr>\n",
       "      <th>1</th>\n",
       "      <td>03/08/2021</td>\n",
       "      <td>35.0</td>\n",
       "      <td>68.0</td>\n",
       "      <td>No</td>\n",
       "      <td>A2</td>\n",
       "    </tr>\n",
       "    <tr>\n",
       "      <th>2</th>\n",
       "      <td>04/08/2021</td>\n",
       "      <td>35.0</td>\n",
       "      <td>68.0</td>\n",
       "      <td>No</td>\n",
       "      <td>A2</td>\n",
       "    </tr>\n",
       "    <tr>\n",
       "      <th>3</th>\n",
       "      <td>05/08/2021</td>\n",
       "      <td>32.0</td>\n",
       "      <td>64.0</td>\n",
       "      <td>No</td>\n",
       "      <td>A3</td>\n",
       "    </tr>\n",
       "    <tr>\n",
       "      <th>4</th>\n",
       "      <td>06/08/2021</td>\n",
       "      <td>31.0</td>\n",
       "      <td>64.0</td>\n",
       "      <td>No</td>\n",
       "      <td>A1</td>\n",
       "    </tr>\n",
       "    <tr>\n",
       "      <th>5</th>\n",
       "      <td>07/08/2021</td>\n",
       "      <td>30.0</td>\n",
       "      <td>62.0</td>\n",
       "      <td>No</td>\n",
       "      <td>A1</td>\n",
       "    </tr>\n",
       "    <tr>\n",
       "      <th>6</th>\n",
       "      <td>08/08/2021</td>\n",
       "      <td>29.0</td>\n",
       "      <td>62.0</td>\n",
       "      <td>No</td>\n",
       "      <td>A1</td>\n",
       "    </tr>\n",
       "    <tr>\n",
       "      <th>7</th>\n",
       "      <td>09/08/2021</td>\n",
       "      <td>28.0</td>\n",
       "      <td>60.0</td>\n",
       "      <td>Yes</td>\n",
       "      <td>A3</td>\n",
       "    </tr>\n",
       "    <tr>\n",
       "      <th>8</th>\n",
       "      <td>10/08/2021</td>\n",
       "      <td>30.0</td>\n",
       "      <td>64.0</td>\n",
       "      <td>No</td>\n",
       "      <td>A2</td>\n",
       "    </tr>\n",
       "    <tr>\n",
       "      <th>9</th>\n",
       "      <td>11/08/2021</td>\n",
       "      <td>33.0</td>\n",
       "      <td>66.0</td>\n",
       "      <td>No</td>\n",
       "      <td>A2</td>\n",
       "    </tr>\n",
       "    <tr>\n",
       "      <th>10</th>\n",
       "      <td>12/08/2021</td>\n",
       "      <td>33.0</td>\n",
       "      <td>66.0</td>\n",
       "      <td>No</td>\n",
       "      <td>A2</td>\n",
       "    </tr>\n",
       "    <tr>\n",
       "      <th>11</th>\n",
       "      <td>13/08/2021</td>\n",
       "      <td>33.0</td>\n",
       "      <td>66.0</td>\n",
       "      <td>No</td>\n",
       "      <td>A2</td>\n",
       "    </tr>\n",
       "    <tr>\n",
       "      <th>12</th>\n",
       "      <td>14/08/2021</td>\n",
       "      <td>33.0</td>\n",
       "      <td>66.0</td>\n",
       "      <td>No</td>\n",
       "      <td>A3</td>\n",
       "    </tr>\n",
       "    <tr>\n",
       "      <th>13</th>\n",
       "      <td>15/08/2021</td>\n",
       "      <td>36.0</td>\n",
       "      <td>68.0</td>\n",
       "      <td>No</td>\n",
       "      <td>A2</td>\n",
       "    </tr>\n",
       "    <tr>\n",
       "      <th>14</th>\n",
       "      <td>16/08/2021</td>\n",
       "      <td>38.0</td>\n",
       "      <td>70.0</td>\n",
       "      <td>No</td>\n",
       "      <td>A3</td>\n",
       "    </tr>\n",
       "    <tr>\n",
       "      <th>15</th>\n",
       "      <td>17/08/2021</td>\n",
       "      <td>40.0</td>\n",
       "      <td>72.0</td>\n",
       "      <td>Yes</td>\n",
       "      <td>A1</td>\n",
       "    </tr>\n",
       "    <tr>\n",
       "      <th>16</th>\n",
       "      <td>18/08/2021</td>\n",
       "      <td>41.0</td>\n",
       "      <td>74.0</td>\n",
       "      <td>No</td>\n",
       "      <td>A1</td>\n",
       "    </tr>\n",
       "    <tr>\n",
       "      <th>17</th>\n",
       "      <td>19/08/2021</td>\n",
       "      <td>41.0</td>\n",
       "      <td>74.0</td>\n",
       "      <td>No</td>\n",
       "      <td>A1</td>\n",
       "    </tr>\n",
       "    <tr>\n",
       "      <th>18</th>\n",
       "      <td>20/08/2021</td>\n",
       "      <td>41.0</td>\n",
       "      <td>76.0</td>\n",
       "      <td>No</td>\n",
       "      <td>A1</td>\n",
       "    </tr>\n",
       "    <tr>\n",
       "      <th>19</th>\n",
       "      <td>21/08/2021</td>\n",
       "      <td>38.0</td>\n",
       "      <td>70.0</td>\n",
       "      <td>No</td>\n",
       "      <td>A1</td>\n",
       "    </tr>\n",
       "    <tr>\n",
       "      <th>20</th>\n",
       "      <td>22/08/2021</td>\n",
       "      <td>36.0</td>\n",
       "      <td>68.0</td>\n",
       "      <td>No</td>\n",
       "      <td>A3</td>\n",
       "    </tr>\n",
       "    <tr>\n",
       "      <th>21</th>\n",
       "      <td>23/08/2021</td>\n",
       "      <td>36.0</td>\n",
       "      <td>70.0</td>\n",
       "      <td>No</td>\n",
       "      <td>A2</td>\n",
       "    </tr>\n",
       "    <tr>\n",
       "      <th>22</th>\n",
       "      <td>24/08/2021</td>\n",
       "      <td>35.0</td>\n",
       "      <td>68.0</td>\n",
       "      <td>No</td>\n",
       "      <td>A2</td>\n",
       "    </tr>\n",
       "    <tr>\n",
       "      <th>23</th>\n",
       "      <td>25/08/2021</td>\n",
       "      <td>NaN</td>\n",
       "      <td>42.0</td>\n",
       "      <td>No</td>\n",
       "      <td>A1</td>\n",
       "    </tr>\n",
       "    <tr>\n",
       "      <th>24</th>\n",
       "      <td>26/08/2021</td>\n",
       "      <td>28.0</td>\n",
       "      <td>NaN</td>\n",
       "      <td>No</td>\n",
       "      <td>A1</td>\n",
       "    </tr>\n",
       "    <tr>\n",
       "      <th>25</th>\n",
       "      <td>27/08/2021</td>\n",
       "      <td>40.0</td>\n",
       "      <td>72.0</td>\n",
       "      <td>Yes</td>\n",
       "      <td>A3</td>\n",
       "    </tr>\n",
       "    <tr>\n",
       "      <th>26</th>\n",
       "      <td>28/08/2021</td>\n",
       "      <td>39.0</td>\n",
       "      <td>70.0</td>\n",
       "      <td>No</td>\n",
       "      <td>A2</td>\n",
       "    </tr>\n",
       "  </tbody>\n",
       "</table>\n",
       "</div>"
      ],
      "text/plain": [
       "          Date  Temperature  Sales BreakDown Area\n",
       "0   02/08/2021         40.0   72.0        No   A1\n",
       "1   03/08/2021         35.0   68.0        No   A2\n",
       "2   04/08/2021         35.0   68.0        No   A2\n",
       "3   05/08/2021         32.0   64.0        No   A3\n",
       "4   06/08/2021         31.0   64.0        No   A1\n",
       "5   07/08/2021         30.0   62.0        No   A1\n",
       "6   08/08/2021         29.0   62.0        No   A1\n",
       "7   09/08/2021         28.0   60.0       Yes   A3\n",
       "8   10/08/2021         30.0   64.0        No   A2\n",
       "9   11/08/2021         33.0   66.0        No   A2\n",
       "10  12/08/2021         33.0   66.0        No   A2\n",
       "11  13/08/2021         33.0   66.0        No   A2\n",
       "12  14/08/2021         33.0   66.0        No   A3\n",
       "13  15/08/2021         36.0   68.0        No   A2\n",
       "14  16/08/2021         38.0   70.0        No   A3\n",
       "15  17/08/2021         40.0   72.0       Yes   A1\n",
       "16  18/08/2021         41.0   74.0        No   A1\n",
       "17  19/08/2021         41.0   74.0        No   A1\n",
       "18  20/08/2021         41.0   76.0        No   A1\n",
       "19  21/08/2021         38.0   70.0        No   A1\n",
       "20  22/08/2021         36.0   68.0        No   A3\n",
       "21  23/08/2021         36.0   70.0        No   A2\n",
       "22  24/08/2021         35.0   68.0        No   A2\n",
       "23  25/08/2021          NaN   42.0        No   A1\n",
       "24  26/08/2021         28.0    NaN        No   A1\n",
       "25  27/08/2021         40.0   72.0       Yes   A3\n",
       "26  28/08/2021         39.0   70.0        No   A2"
      ]
     },
     "execution_count": 184,
     "metadata": {},
     "output_type": "execute_result"
    }
   ],
   "source": [
    "df_sales = pd.read_csv(\"icecream.csv\", delimiter=\",\", header=\"infer\")\n",
    "df_sales\n",
    "#print(df_sales)"
   ]
  },
  {
   "cell_type": "markdown",
   "metadata": {
    "slideshow": {
     "slide_type": "slide"
    }
   },
   "source": [
    "If the file contains large amounts of data, the first few rows, or the last few rows can be observed using `head` or `tail` methods. They can be used without a parameter (default number of rows), or a parameter can be passed to obtain the desired number of rows."
   ]
  },
  {
   "cell_type": "code",
   "execution_count": 185,
   "metadata": {
    "slideshow": {
     "slide_type": "fragment"
    }
   },
   "outputs": [
    {
     "name": "stdout",
     "output_type": "stream",
     "text": [
      "         Date  Temperature  Sales BreakDown Area\n",
      "0  02/08/2021         40.0   72.0        No   A1\n",
      "1  03/08/2021         35.0   68.0        No   A2\n",
      "2  04/08/2021         35.0   68.0        No   A2\n",
      "3  05/08/2021         32.0   64.0        No   A3\n",
      "4  06/08/2021         31.0   64.0        No   A1\n",
      "          Date  Temperature  Sales BreakDown Area\n",
      "22  24/08/2021         35.0   68.0        No   A2\n",
      "23  25/08/2021          NaN   42.0        No   A1\n",
      "24  26/08/2021         28.0    NaN        No   A1\n",
      "25  27/08/2021         40.0   72.0       Yes   A3\n",
      "26  28/08/2021         39.0   70.0        No   A2\n",
      "         Date  Temperature  Sales BreakDown Area\n",
      "0  02/08/2021         40.0   72.0        No   A1\n",
      "1  03/08/2021         35.0   68.0        No   A2\n",
      "2  04/08/2021         35.0   68.0        No   A2\n"
     ]
    }
   ],
   "source": [
    "print(df_sales.head())\n",
    "print(df_sales.tail())\n",
    "print(df_sales.head(3))"
   ]
  },
  {
   "cell_type": "markdown",
   "metadata": {
    "slideshow": {
     "slide_type": "slide"
    }
   },
   "source": [
    "## Handling missing values\n",
    "\n",
    "It is verry common when working with data, to have missing or incomplete data. One can use `isnull` to identify any null values."
   ]
  },
  {
   "cell_type": "code",
   "execution_count": 186,
   "metadata": {
    "slideshow": {
     "slide_type": "subslide"
    }
   },
   "outputs": [
    {
     "data": {
      "text/html": [
       "<div>\n",
       "<style scoped>\n",
       "    .dataframe tbody tr th:only-of-type {\n",
       "        vertical-align: middle;\n",
       "    }\n",
       "\n",
       "    .dataframe tbody tr th {\n",
       "        vertical-align: top;\n",
       "    }\n",
       "\n",
       "    .dataframe thead th {\n",
       "        text-align: right;\n",
       "    }\n",
       "</style>\n",
       "<table border=\"1\" class=\"dataframe\">\n",
       "  <thead>\n",
       "    <tr style=\"text-align: right;\">\n",
       "      <th></th>\n",
       "      <th>Date</th>\n",
       "      <th>Temperature</th>\n",
       "      <th>Sales</th>\n",
       "      <th>BreakDown</th>\n",
       "      <th>Area</th>\n",
       "    </tr>\n",
       "  </thead>\n",
       "  <tbody>\n",
       "    <tr>\n",
       "      <th>0</th>\n",
       "      <td>False</td>\n",
       "      <td>False</td>\n",
       "      <td>False</td>\n",
       "      <td>False</td>\n",
       "      <td>False</td>\n",
       "    </tr>\n",
       "    <tr>\n",
       "      <th>1</th>\n",
       "      <td>False</td>\n",
       "      <td>False</td>\n",
       "      <td>False</td>\n",
       "      <td>False</td>\n",
       "      <td>False</td>\n",
       "    </tr>\n",
       "    <tr>\n",
       "      <th>2</th>\n",
       "      <td>False</td>\n",
       "      <td>False</td>\n",
       "      <td>False</td>\n",
       "      <td>False</td>\n",
       "      <td>False</td>\n",
       "    </tr>\n",
       "    <tr>\n",
       "      <th>3</th>\n",
       "      <td>False</td>\n",
       "      <td>False</td>\n",
       "      <td>False</td>\n",
       "      <td>False</td>\n",
       "      <td>False</td>\n",
       "    </tr>\n",
       "    <tr>\n",
       "      <th>4</th>\n",
       "      <td>False</td>\n",
       "      <td>False</td>\n",
       "      <td>False</td>\n",
       "      <td>False</td>\n",
       "      <td>False</td>\n",
       "    </tr>\n",
       "    <tr>\n",
       "      <th>5</th>\n",
       "      <td>False</td>\n",
       "      <td>False</td>\n",
       "      <td>False</td>\n",
       "      <td>False</td>\n",
       "      <td>False</td>\n",
       "    </tr>\n",
       "    <tr>\n",
       "      <th>6</th>\n",
       "      <td>False</td>\n",
       "      <td>False</td>\n",
       "      <td>False</td>\n",
       "      <td>False</td>\n",
       "      <td>False</td>\n",
       "    </tr>\n",
       "    <tr>\n",
       "      <th>7</th>\n",
       "      <td>False</td>\n",
       "      <td>False</td>\n",
       "      <td>False</td>\n",
       "      <td>False</td>\n",
       "      <td>False</td>\n",
       "    </tr>\n",
       "    <tr>\n",
       "      <th>8</th>\n",
       "      <td>False</td>\n",
       "      <td>False</td>\n",
       "      <td>False</td>\n",
       "      <td>False</td>\n",
       "      <td>False</td>\n",
       "    </tr>\n",
       "    <tr>\n",
       "      <th>9</th>\n",
       "      <td>False</td>\n",
       "      <td>False</td>\n",
       "      <td>False</td>\n",
       "      <td>False</td>\n",
       "      <td>False</td>\n",
       "    </tr>\n",
       "    <tr>\n",
       "      <th>10</th>\n",
       "      <td>False</td>\n",
       "      <td>False</td>\n",
       "      <td>False</td>\n",
       "      <td>False</td>\n",
       "      <td>False</td>\n",
       "    </tr>\n",
       "    <tr>\n",
       "      <th>11</th>\n",
       "      <td>False</td>\n",
       "      <td>False</td>\n",
       "      <td>False</td>\n",
       "      <td>False</td>\n",
       "      <td>False</td>\n",
       "    </tr>\n",
       "    <tr>\n",
       "      <th>12</th>\n",
       "      <td>False</td>\n",
       "      <td>False</td>\n",
       "      <td>False</td>\n",
       "      <td>False</td>\n",
       "      <td>False</td>\n",
       "    </tr>\n",
       "    <tr>\n",
       "      <th>13</th>\n",
       "      <td>False</td>\n",
       "      <td>False</td>\n",
       "      <td>False</td>\n",
       "      <td>False</td>\n",
       "      <td>False</td>\n",
       "    </tr>\n",
       "    <tr>\n",
       "      <th>14</th>\n",
       "      <td>False</td>\n",
       "      <td>False</td>\n",
       "      <td>False</td>\n",
       "      <td>False</td>\n",
       "      <td>False</td>\n",
       "    </tr>\n",
       "    <tr>\n",
       "      <th>15</th>\n",
       "      <td>False</td>\n",
       "      <td>False</td>\n",
       "      <td>False</td>\n",
       "      <td>False</td>\n",
       "      <td>False</td>\n",
       "    </tr>\n",
       "    <tr>\n",
       "      <th>16</th>\n",
       "      <td>False</td>\n",
       "      <td>False</td>\n",
       "      <td>False</td>\n",
       "      <td>False</td>\n",
       "      <td>False</td>\n",
       "    </tr>\n",
       "    <tr>\n",
       "      <th>17</th>\n",
       "      <td>False</td>\n",
       "      <td>False</td>\n",
       "      <td>False</td>\n",
       "      <td>False</td>\n",
       "      <td>False</td>\n",
       "    </tr>\n",
       "    <tr>\n",
       "      <th>18</th>\n",
       "      <td>False</td>\n",
       "      <td>False</td>\n",
       "      <td>False</td>\n",
       "      <td>False</td>\n",
       "      <td>False</td>\n",
       "    </tr>\n",
       "    <tr>\n",
       "      <th>19</th>\n",
       "      <td>False</td>\n",
       "      <td>False</td>\n",
       "      <td>False</td>\n",
       "      <td>False</td>\n",
       "      <td>False</td>\n",
       "    </tr>\n",
       "    <tr>\n",
       "      <th>20</th>\n",
       "      <td>False</td>\n",
       "      <td>False</td>\n",
       "      <td>False</td>\n",
       "      <td>False</td>\n",
       "      <td>False</td>\n",
       "    </tr>\n",
       "    <tr>\n",
       "      <th>21</th>\n",
       "      <td>False</td>\n",
       "      <td>False</td>\n",
       "      <td>False</td>\n",
       "      <td>False</td>\n",
       "      <td>False</td>\n",
       "    </tr>\n",
       "    <tr>\n",
       "      <th>22</th>\n",
       "      <td>False</td>\n",
       "      <td>False</td>\n",
       "      <td>False</td>\n",
       "      <td>False</td>\n",
       "      <td>False</td>\n",
       "    </tr>\n",
       "    <tr>\n",
       "      <th>23</th>\n",
       "      <td>False</td>\n",
       "      <td>True</td>\n",
       "      <td>False</td>\n",
       "      <td>False</td>\n",
       "      <td>False</td>\n",
       "    </tr>\n",
       "    <tr>\n",
       "      <th>24</th>\n",
       "      <td>False</td>\n",
       "      <td>False</td>\n",
       "      <td>True</td>\n",
       "      <td>False</td>\n",
       "      <td>False</td>\n",
       "    </tr>\n",
       "    <tr>\n",
       "      <th>25</th>\n",
       "      <td>False</td>\n",
       "      <td>False</td>\n",
       "      <td>False</td>\n",
       "      <td>False</td>\n",
       "      <td>False</td>\n",
       "    </tr>\n",
       "    <tr>\n",
       "      <th>26</th>\n",
       "      <td>False</td>\n",
       "      <td>False</td>\n",
       "      <td>False</td>\n",
       "      <td>False</td>\n",
       "      <td>False</td>\n",
       "    </tr>\n",
       "  </tbody>\n",
       "</table>\n",
       "</div>"
      ],
      "text/plain": [
       "     Date  Temperature  Sales  BreakDown   Area\n",
       "0   False        False  False      False  False\n",
       "1   False        False  False      False  False\n",
       "2   False        False  False      False  False\n",
       "3   False        False  False      False  False\n",
       "4   False        False  False      False  False\n",
       "5   False        False  False      False  False\n",
       "6   False        False  False      False  False\n",
       "7   False        False  False      False  False\n",
       "8   False        False  False      False  False\n",
       "9   False        False  False      False  False\n",
       "10  False        False  False      False  False\n",
       "11  False        False  False      False  False\n",
       "12  False        False  False      False  False\n",
       "13  False        False  False      False  False\n",
       "14  False        False  False      False  False\n",
       "15  False        False  False      False  False\n",
       "16  False        False  False      False  False\n",
       "17  False        False  False      False  False\n",
       "18  False        False  False      False  False\n",
       "19  False        False  False      False  False\n",
       "20  False        False  False      False  False\n",
       "21  False        False  False      False  False\n",
       "22  False        False  False      False  False\n",
       "23  False         True  False      False  False\n",
       "24  False        False   True      False  False\n",
       "25  False        False  False      False  False\n",
       "26  False        False  False      False  False"
      ]
     },
     "execution_count": 186,
     "metadata": {},
     "output_type": "execute_result"
    }
   ],
   "source": [
    "df_sales.isnull()"
   ]
  },
  {
   "cell_type": "markdown",
   "metadata": {},
   "source": [
    "df_sales.isnull().sum()"
   ]
  },
  {
   "cell_type": "markdown",
   "metadata": {
    "slideshow": {
     "slide_type": "subslide"
    }
   },
   "source": [
    "This will display the entire dataset and a flag for null values in each column. \n",
    "\n",
    "To be more efficient we can do:"
   ]
  },
  {
   "cell_type": "code",
   "execution_count": 187,
   "metadata": {
    "slideshow": {
     "slide_type": "fragment"
    }
   },
   "outputs": [
    {
     "data": {
      "text/plain": [
       "Date           0\n",
       "Temperature    1\n",
       "Sales          1\n",
       "BreakDown      0\n",
       "Area           0\n",
       "dtype: int64"
      ]
     },
     "execution_count": 187,
     "metadata": {},
     "output_type": "execute_result"
    }
   ],
   "source": [
    "df_sales.isnull().sum()"
   ]
  },
  {
   "cell_type": "markdown",
   "metadata": {
    "slideshow": {
     "slide_type": "subslide"
    }
   },
   "source": [
    "This shows us that none of the dates, break down flag, and area are null. There is one record with a null for sales, and another record wiht a null value for sales.\n",
    "\n",
    "To see them as records, we can show only the rows where any (`any` method) column (`axis=1`) has a null value."
   ]
  },
  {
   "cell_type": "code",
   "execution_count": 188,
   "metadata": {
    "slideshow": {
     "slide_type": "fragment"
    }
   },
   "outputs": [
    {
     "data": {
      "text/html": [
       "<div>\n",
       "<style scoped>\n",
       "    .dataframe tbody tr th:only-of-type {\n",
       "        vertical-align: middle;\n",
       "    }\n",
       "\n",
       "    .dataframe tbody tr th {\n",
       "        vertical-align: top;\n",
       "    }\n",
       "\n",
       "    .dataframe thead th {\n",
       "        text-align: right;\n",
       "    }\n",
       "</style>\n",
       "<table border=\"1\" class=\"dataframe\">\n",
       "  <thead>\n",
       "    <tr style=\"text-align: right;\">\n",
       "      <th></th>\n",
       "      <th>Date</th>\n",
       "      <th>Temperature</th>\n",
       "      <th>Sales</th>\n",
       "      <th>BreakDown</th>\n",
       "      <th>Area</th>\n",
       "    </tr>\n",
       "  </thead>\n",
       "  <tbody>\n",
       "    <tr>\n",
       "      <th>23</th>\n",
       "      <td>25/08/2021</td>\n",
       "      <td>NaN</td>\n",
       "      <td>42.0</td>\n",
       "      <td>No</td>\n",
       "      <td>A1</td>\n",
       "    </tr>\n",
       "    <tr>\n",
       "      <th>24</th>\n",
       "      <td>26/08/2021</td>\n",
       "      <td>28.0</td>\n",
       "      <td>NaN</td>\n",
       "      <td>No</td>\n",
       "      <td>A1</td>\n",
       "    </tr>\n",
       "  </tbody>\n",
       "</table>\n",
       "</div>"
      ],
      "text/plain": [
       "          Date  Temperature  Sales BreakDown Area\n",
       "23  25/08/2021          NaN   42.0        No   A1\n",
       "24  26/08/2021         28.0    NaN        No   A1"
      ]
     },
     "execution_count": 188,
     "metadata": {},
     "output_type": "execute_result"
    }
   ],
   "source": [
    "df_sales[df_sales.isnull().any(axis=1)]"
   ]
  },
  {
   "cell_type": "markdown",
   "metadata": {
    "slideshow": {
     "slide_type": "subslide"
    }
   },
   "source": [
    "So now that we have identified the null values, we can either impute replacement values or remove related records.\n",
    "\n",
    "If considering the imputing values route, one can for instance fill in any missing Temperature with the average temperature for the rest of the days. To fill in null values `fillna` can be used."
   ]
  },
  {
   "cell_type": "code",
   "execution_count": 189,
   "metadata": {
    "slideshow": {
     "slide_type": "fragment"
    }
   },
   "outputs": [
    {
     "data": {
      "text/plain": [
       "Date           25/08/2021\n",
       "Temperature     35.038462\n",
       "Sales                42.0\n",
       "BreakDown              No\n",
       "Area                   A1\n",
       "Name: 23, dtype: object"
      ]
     },
     "execution_count": 189,
     "metadata": {},
     "output_type": "execute_result"
    }
   ],
   "source": [
    "df_sales.Temperature = df_sales.Temperature.fillna(\n",
    "    df_sales.Temperature.mean()\n",
    ")\n",
    "df_sales.loc[23]"
   ]
  },
  {
   "cell_type": "markdown",
   "metadata": {
    "slideshow": {
     "slide_type": "slide"
    }
   },
   "source": [
    "On the other hand, if you can only use data that you are certain about, you can remove rows or columns that contain null values.\n",
    "\n",
    "In this case we will remove rows (`axis=0`) where any (`how='any'`) of the columns contain null values."
   ]
  },
  {
   "cell_type": "code",
   "execution_count": 190,
   "metadata": {
    "slideshow": {
     "slide_type": "fragment"
    }
   },
   "outputs": [
    {
     "data": {
      "text/html": [
       "<div>\n",
       "<style scoped>\n",
       "    .dataframe tbody tr th:only-of-type {\n",
       "        vertical-align: middle;\n",
       "    }\n",
       "\n",
       "    .dataframe tbody tr th {\n",
       "        vertical-align: top;\n",
       "    }\n",
       "\n",
       "    .dataframe thead th {\n",
       "        text-align: right;\n",
       "    }\n",
       "</style>\n",
       "<table border=\"1\" class=\"dataframe\">\n",
       "  <thead>\n",
       "    <tr style=\"text-align: right;\">\n",
       "      <th></th>\n",
       "      <th>Date</th>\n",
       "      <th>Temperature</th>\n",
       "      <th>Sales</th>\n",
       "      <th>BreakDown</th>\n",
       "      <th>Area</th>\n",
       "    </tr>\n",
       "  </thead>\n",
       "  <tbody>\n",
       "    <tr>\n",
       "      <th>0</th>\n",
       "      <td>02/08/2021</td>\n",
       "      <td>40.000000</td>\n",
       "      <td>72.0</td>\n",
       "      <td>No</td>\n",
       "      <td>A1</td>\n",
       "    </tr>\n",
       "    <tr>\n",
       "      <th>1</th>\n",
       "      <td>03/08/2021</td>\n",
       "      <td>35.000000</td>\n",
       "      <td>68.0</td>\n",
       "      <td>No</td>\n",
       "      <td>A2</td>\n",
       "    </tr>\n",
       "    <tr>\n",
       "      <th>2</th>\n",
       "      <td>04/08/2021</td>\n",
       "      <td>35.000000</td>\n",
       "      <td>68.0</td>\n",
       "      <td>No</td>\n",
       "      <td>A2</td>\n",
       "    </tr>\n",
       "    <tr>\n",
       "      <th>3</th>\n",
       "      <td>05/08/2021</td>\n",
       "      <td>32.000000</td>\n",
       "      <td>64.0</td>\n",
       "      <td>No</td>\n",
       "      <td>A3</td>\n",
       "    </tr>\n",
       "    <tr>\n",
       "      <th>4</th>\n",
       "      <td>06/08/2021</td>\n",
       "      <td>31.000000</td>\n",
       "      <td>64.0</td>\n",
       "      <td>No</td>\n",
       "      <td>A1</td>\n",
       "    </tr>\n",
       "    <tr>\n",
       "      <th>5</th>\n",
       "      <td>07/08/2021</td>\n",
       "      <td>30.000000</td>\n",
       "      <td>62.0</td>\n",
       "      <td>No</td>\n",
       "      <td>A1</td>\n",
       "    </tr>\n",
       "    <tr>\n",
       "      <th>6</th>\n",
       "      <td>08/08/2021</td>\n",
       "      <td>29.000000</td>\n",
       "      <td>62.0</td>\n",
       "      <td>No</td>\n",
       "      <td>A1</td>\n",
       "    </tr>\n",
       "    <tr>\n",
       "      <th>7</th>\n",
       "      <td>09/08/2021</td>\n",
       "      <td>28.000000</td>\n",
       "      <td>60.0</td>\n",
       "      <td>Yes</td>\n",
       "      <td>A3</td>\n",
       "    </tr>\n",
       "    <tr>\n",
       "      <th>8</th>\n",
       "      <td>10/08/2021</td>\n",
       "      <td>30.000000</td>\n",
       "      <td>64.0</td>\n",
       "      <td>No</td>\n",
       "      <td>A2</td>\n",
       "    </tr>\n",
       "    <tr>\n",
       "      <th>9</th>\n",
       "      <td>11/08/2021</td>\n",
       "      <td>33.000000</td>\n",
       "      <td>66.0</td>\n",
       "      <td>No</td>\n",
       "      <td>A2</td>\n",
       "    </tr>\n",
       "    <tr>\n",
       "      <th>10</th>\n",
       "      <td>12/08/2021</td>\n",
       "      <td>33.000000</td>\n",
       "      <td>66.0</td>\n",
       "      <td>No</td>\n",
       "      <td>A2</td>\n",
       "    </tr>\n",
       "    <tr>\n",
       "      <th>11</th>\n",
       "      <td>13/08/2021</td>\n",
       "      <td>33.000000</td>\n",
       "      <td>66.0</td>\n",
       "      <td>No</td>\n",
       "      <td>A2</td>\n",
       "    </tr>\n",
       "    <tr>\n",
       "      <th>12</th>\n",
       "      <td>14/08/2021</td>\n",
       "      <td>33.000000</td>\n",
       "      <td>66.0</td>\n",
       "      <td>No</td>\n",
       "      <td>A3</td>\n",
       "    </tr>\n",
       "    <tr>\n",
       "      <th>13</th>\n",
       "      <td>15/08/2021</td>\n",
       "      <td>36.000000</td>\n",
       "      <td>68.0</td>\n",
       "      <td>No</td>\n",
       "      <td>A2</td>\n",
       "    </tr>\n",
       "    <tr>\n",
       "      <th>14</th>\n",
       "      <td>16/08/2021</td>\n",
       "      <td>38.000000</td>\n",
       "      <td>70.0</td>\n",
       "      <td>No</td>\n",
       "      <td>A3</td>\n",
       "    </tr>\n",
       "    <tr>\n",
       "      <th>15</th>\n",
       "      <td>17/08/2021</td>\n",
       "      <td>40.000000</td>\n",
       "      <td>72.0</td>\n",
       "      <td>Yes</td>\n",
       "      <td>A1</td>\n",
       "    </tr>\n",
       "    <tr>\n",
       "      <th>16</th>\n",
       "      <td>18/08/2021</td>\n",
       "      <td>41.000000</td>\n",
       "      <td>74.0</td>\n",
       "      <td>No</td>\n",
       "      <td>A1</td>\n",
       "    </tr>\n",
       "    <tr>\n",
       "      <th>17</th>\n",
       "      <td>19/08/2021</td>\n",
       "      <td>41.000000</td>\n",
       "      <td>74.0</td>\n",
       "      <td>No</td>\n",
       "      <td>A1</td>\n",
       "    </tr>\n",
       "    <tr>\n",
       "      <th>18</th>\n",
       "      <td>20/08/2021</td>\n",
       "      <td>41.000000</td>\n",
       "      <td>76.0</td>\n",
       "      <td>No</td>\n",
       "      <td>A1</td>\n",
       "    </tr>\n",
       "    <tr>\n",
       "      <th>19</th>\n",
       "      <td>21/08/2021</td>\n",
       "      <td>38.000000</td>\n",
       "      <td>70.0</td>\n",
       "      <td>No</td>\n",
       "      <td>A1</td>\n",
       "    </tr>\n",
       "    <tr>\n",
       "      <th>20</th>\n",
       "      <td>22/08/2021</td>\n",
       "      <td>36.000000</td>\n",
       "      <td>68.0</td>\n",
       "      <td>No</td>\n",
       "      <td>A3</td>\n",
       "    </tr>\n",
       "    <tr>\n",
       "      <th>21</th>\n",
       "      <td>23/08/2021</td>\n",
       "      <td>36.000000</td>\n",
       "      <td>70.0</td>\n",
       "      <td>No</td>\n",
       "      <td>A2</td>\n",
       "    </tr>\n",
       "    <tr>\n",
       "      <th>22</th>\n",
       "      <td>24/08/2021</td>\n",
       "      <td>35.000000</td>\n",
       "      <td>68.0</td>\n",
       "      <td>No</td>\n",
       "      <td>A2</td>\n",
       "    </tr>\n",
       "    <tr>\n",
       "      <th>23</th>\n",
       "      <td>25/08/2021</td>\n",
       "      <td>35.038462</td>\n",
       "      <td>42.0</td>\n",
       "      <td>No</td>\n",
       "      <td>A1</td>\n",
       "    </tr>\n",
       "    <tr>\n",
       "      <th>25</th>\n",
       "      <td>27/08/2021</td>\n",
       "      <td>40.000000</td>\n",
       "      <td>72.0</td>\n",
       "      <td>Yes</td>\n",
       "      <td>A3</td>\n",
       "    </tr>\n",
       "    <tr>\n",
       "      <th>26</th>\n",
       "      <td>28/08/2021</td>\n",
       "      <td>39.000000</td>\n",
       "      <td>70.0</td>\n",
       "      <td>No</td>\n",
       "      <td>A2</td>\n",
       "    </tr>\n",
       "  </tbody>\n",
       "</table>\n",
       "</div>"
      ],
      "text/plain": [
       "          Date  Temperature  Sales BreakDown Area\n",
       "0   02/08/2021    40.000000   72.0        No   A1\n",
       "1   03/08/2021    35.000000   68.0        No   A2\n",
       "2   04/08/2021    35.000000   68.0        No   A2\n",
       "3   05/08/2021    32.000000   64.0        No   A3\n",
       "4   06/08/2021    31.000000   64.0        No   A1\n",
       "5   07/08/2021    30.000000   62.0        No   A1\n",
       "6   08/08/2021    29.000000   62.0        No   A1\n",
       "7   09/08/2021    28.000000   60.0       Yes   A3\n",
       "8   10/08/2021    30.000000   64.0        No   A2\n",
       "9   11/08/2021    33.000000   66.0        No   A2\n",
       "10  12/08/2021    33.000000   66.0        No   A2\n",
       "11  13/08/2021    33.000000   66.0        No   A2\n",
       "12  14/08/2021    33.000000   66.0        No   A3\n",
       "13  15/08/2021    36.000000   68.0        No   A2\n",
       "14  16/08/2021    38.000000   70.0        No   A3\n",
       "15  17/08/2021    40.000000   72.0       Yes   A1\n",
       "16  18/08/2021    41.000000   74.0        No   A1\n",
       "17  19/08/2021    41.000000   74.0        No   A1\n",
       "18  20/08/2021    41.000000   76.0        No   A1\n",
       "19  21/08/2021    38.000000   70.0        No   A1\n",
       "20  22/08/2021    36.000000   68.0        No   A3\n",
       "21  23/08/2021    36.000000   70.0        No   A2\n",
       "22  24/08/2021    35.000000   68.0        No   A2\n",
       "23  25/08/2021    35.038462   42.0        No   A1\n",
       "25  27/08/2021    40.000000   72.0       Yes   A3\n",
       "26  28/08/2021    39.000000   70.0        No   A2"
      ]
     },
     "execution_count": 190,
     "metadata": {},
     "output_type": "execute_result"
    }
   ],
   "source": [
    "df_sales = df_sales.dropna(axis = 0, how=\"any\")\n",
    "df_sales"
   ]
  },
  {
   "cell_type": "markdown",
   "metadata": {
    "slideshow": {
     "slide_type": "slide"
    }
   },
   "source": [
    "## Explore data\n",
    "\n",
    "Now that missing values are removed, it's time to explore data."
   ]
  },
  {
   "cell_type": "code",
   "execution_count": 191,
   "metadata": {},
   "outputs": [
    {
     "name": "stdout",
     "output_type": "stream",
     "text": [
      "Average Temperature: 35.30917159763314\n",
      "Average Sales: 67.0\n"
     ]
    }
   ],
   "source": [
    "mean_temperature = df_sales.Temperature.mean()\n",
    "mean_sales = df_sales.Sales.mean()\n",
    "\n",
    "print(\"Average Temperature: \" + str(mean_temperature) + \"\\nAverage Sales: \" + str(mean_sales))"
   ]
  },
  {
   "cell_type": "markdown",
   "metadata": {
    "slideshow": {
     "slide_type": "subslide"
    }
   },
   "source": [
    "Now, let's find which were the days were more ice-creams were sold than the overall average."
   ]
  },
  {
   "cell_type": "code",
   "execution_count": 192,
   "metadata": {
    "slideshow": {
     "slide_type": "fragment"
    }
   },
   "outputs": [
    {
     "data": {
      "text/html": [
       "<div>\n",
       "<style scoped>\n",
       "    .dataframe tbody tr th:only-of-type {\n",
       "        vertical-align: middle;\n",
       "    }\n",
       "\n",
       "    .dataframe tbody tr th {\n",
       "        vertical-align: top;\n",
       "    }\n",
       "\n",
       "    .dataframe thead th {\n",
       "        text-align: right;\n",
       "    }\n",
       "</style>\n",
       "<table border=\"1\" class=\"dataframe\">\n",
       "  <thead>\n",
       "    <tr style=\"text-align: right;\">\n",
       "      <th></th>\n",
       "      <th>Date</th>\n",
       "      <th>Temperature</th>\n",
       "      <th>Sales</th>\n",
       "      <th>BreakDown</th>\n",
       "      <th>Area</th>\n",
       "    </tr>\n",
       "  </thead>\n",
       "  <tbody>\n",
       "    <tr>\n",
       "      <th>0</th>\n",
       "      <td>02/08/2021</td>\n",
       "      <td>40.0</td>\n",
       "      <td>72.0</td>\n",
       "      <td>No</td>\n",
       "      <td>A1</td>\n",
       "    </tr>\n",
       "    <tr>\n",
       "      <th>1</th>\n",
       "      <td>03/08/2021</td>\n",
       "      <td>35.0</td>\n",
       "      <td>68.0</td>\n",
       "      <td>No</td>\n",
       "      <td>A2</td>\n",
       "    </tr>\n",
       "    <tr>\n",
       "      <th>2</th>\n",
       "      <td>04/08/2021</td>\n",
       "      <td>35.0</td>\n",
       "      <td>68.0</td>\n",
       "      <td>No</td>\n",
       "      <td>A2</td>\n",
       "    </tr>\n",
       "    <tr>\n",
       "      <th>13</th>\n",
       "      <td>15/08/2021</td>\n",
       "      <td>36.0</td>\n",
       "      <td>68.0</td>\n",
       "      <td>No</td>\n",
       "      <td>A2</td>\n",
       "    </tr>\n",
       "    <tr>\n",
       "      <th>14</th>\n",
       "      <td>16/08/2021</td>\n",
       "      <td>38.0</td>\n",
       "      <td>70.0</td>\n",
       "      <td>No</td>\n",
       "      <td>A3</td>\n",
       "    </tr>\n",
       "    <tr>\n",
       "      <th>15</th>\n",
       "      <td>17/08/2021</td>\n",
       "      <td>40.0</td>\n",
       "      <td>72.0</td>\n",
       "      <td>Yes</td>\n",
       "      <td>A1</td>\n",
       "    </tr>\n",
       "    <tr>\n",
       "      <th>16</th>\n",
       "      <td>18/08/2021</td>\n",
       "      <td>41.0</td>\n",
       "      <td>74.0</td>\n",
       "      <td>No</td>\n",
       "      <td>A1</td>\n",
       "    </tr>\n",
       "    <tr>\n",
       "      <th>17</th>\n",
       "      <td>19/08/2021</td>\n",
       "      <td>41.0</td>\n",
       "      <td>74.0</td>\n",
       "      <td>No</td>\n",
       "      <td>A1</td>\n",
       "    </tr>\n",
       "    <tr>\n",
       "      <th>18</th>\n",
       "      <td>20/08/2021</td>\n",
       "      <td>41.0</td>\n",
       "      <td>76.0</td>\n",
       "      <td>No</td>\n",
       "      <td>A1</td>\n",
       "    </tr>\n",
       "    <tr>\n",
       "      <th>19</th>\n",
       "      <td>21/08/2021</td>\n",
       "      <td>38.0</td>\n",
       "      <td>70.0</td>\n",
       "      <td>No</td>\n",
       "      <td>A1</td>\n",
       "    </tr>\n",
       "    <tr>\n",
       "      <th>20</th>\n",
       "      <td>22/08/2021</td>\n",
       "      <td>36.0</td>\n",
       "      <td>68.0</td>\n",
       "      <td>No</td>\n",
       "      <td>A3</td>\n",
       "    </tr>\n",
       "    <tr>\n",
       "      <th>21</th>\n",
       "      <td>23/08/2021</td>\n",
       "      <td>36.0</td>\n",
       "      <td>70.0</td>\n",
       "      <td>No</td>\n",
       "      <td>A2</td>\n",
       "    </tr>\n",
       "    <tr>\n",
       "      <th>22</th>\n",
       "      <td>24/08/2021</td>\n",
       "      <td>35.0</td>\n",
       "      <td>68.0</td>\n",
       "      <td>No</td>\n",
       "      <td>A2</td>\n",
       "    </tr>\n",
       "    <tr>\n",
       "      <th>25</th>\n",
       "      <td>27/08/2021</td>\n",
       "      <td>40.0</td>\n",
       "      <td>72.0</td>\n",
       "      <td>Yes</td>\n",
       "      <td>A3</td>\n",
       "    </tr>\n",
       "    <tr>\n",
       "      <th>26</th>\n",
       "      <td>28/08/2021</td>\n",
       "      <td>39.0</td>\n",
       "      <td>70.0</td>\n",
       "      <td>No</td>\n",
       "      <td>A2</td>\n",
       "    </tr>\n",
       "  </tbody>\n",
       "</table>\n",
       "</div>"
      ],
      "text/plain": [
       "          Date  Temperature  Sales BreakDown Area\n",
       "0   02/08/2021         40.0   72.0        No   A1\n",
       "1   03/08/2021         35.0   68.0        No   A2\n",
       "2   04/08/2021         35.0   68.0        No   A2\n",
       "13  15/08/2021         36.0   68.0        No   A2\n",
       "14  16/08/2021         38.0   70.0        No   A3\n",
       "15  17/08/2021         40.0   72.0       Yes   A1\n",
       "16  18/08/2021         41.0   74.0        No   A1\n",
       "17  19/08/2021         41.0   74.0        No   A1\n",
       "18  20/08/2021         41.0   76.0        No   A1\n",
       "19  21/08/2021         38.0   70.0        No   A1\n",
       "20  22/08/2021         36.0   68.0        No   A3\n",
       "21  23/08/2021         36.0   70.0        No   A2\n",
       "22  24/08/2021         35.0   68.0        No   A2\n",
       "25  27/08/2021         40.0   72.0       Yes   A3\n",
       "26  28/08/2021         39.0   70.0        No   A2"
      ]
     },
     "execution_count": 192,
     "metadata": {},
     "output_type": "execute_result"
    }
   ],
   "source": [
    "df_sales[df_sales.Sales > mean_sales]"
   ]
  },
  {
   "cell_type": "markdown",
   "metadata": {
    "slideshow": {
     "slide_type": "subslide"
    }
   },
   "source": [
    "Filtered results can be re-used to work additional analysis on them. For instance, we can find the mean daily temperature of days where ice-cream sales were more than the overall mean."
   ]
  },
  {
   "cell_type": "code",
   "execution_count": 193,
   "metadata": {
    "slideshow": {
     "slide_type": "fragment"
    }
   },
   "outputs": [
    {
     "data": {
      "text/plain": [
       "38.06666666666667"
      ]
     },
     "execution_count": 193,
     "metadata": {},
     "output_type": "execute_result"
    }
   ],
   "source": [
    "df_sales[df_sales.Sales > mean_sales].Temperature.mean()"
   ]
  },
  {
   "cell_type": "markdown",
   "metadata": {
    "slideshow": {
     "slide_type": "subslide"
    }
   },
   "source": [
    "Let's add a label showing if the quota has been reached or not. Let's assume that the quota is 70.\n",
    "\n",
    "First a pandas `Series` is created containing `True` or `False`, then this series is concatenated using `concat` method as a column (`axis=1`) to the existing DataFrame."
   ]
  },
  {
   "cell_type": "code",
   "execution_count": 194,
   "metadata": {
    "slideshow": {
     "slide_type": "fragment"
    }
   },
   "outputs": [
    {
     "data": {
      "text/html": [
       "<div>\n",
       "<style scoped>\n",
       "    .dataframe tbody tr th:only-of-type {\n",
       "        vertical-align: middle;\n",
       "    }\n",
       "\n",
       "    .dataframe tbody tr th {\n",
       "        vertical-align: top;\n",
       "    }\n",
       "\n",
       "    .dataframe thead th {\n",
       "        text-align: right;\n",
       "    }\n",
       "</style>\n",
       "<table border=\"1\" class=\"dataframe\">\n",
       "  <thead>\n",
       "    <tr style=\"text-align: right;\">\n",
       "      <th></th>\n",
       "      <th>Date</th>\n",
       "      <th>Temperature</th>\n",
       "      <th>Sales</th>\n",
       "      <th>BreakDown</th>\n",
       "      <th>Area</th>\n",
       "      <th>QuotaMet</th>\n",
       "    </tr>\n",
       "  </thead>\n",
       "  <tbody>\n",
       "    <tr>\n",
       "      <th>0</th>\n",
       "      <td>02/08/2021</td>\n",
       "      <td>40.000000</td>\n",
       "      <td>72.0</td>\n",
       "      <td>No</td>\n",
       "      <td>A1</td>\n",
       "      <td>True</td>\n",
       "    </tr>\n",
       "    <tr>\n",
       "      <th>1</th>\n",
       "      <td>03/08/2021</td>\n",
       "      <td>35.000000</td>\n",
       "      <td>68.0</td>\n",
       "      <td>No</td>\n",
       "      <td>A2</td>\n",
       "      <td>False</td>\n",
       "    </tr>\n",
       "    <tr>\n",
       "      <th>2</th>\n",
       "      <td>04/08/2021</td>\n",
       "      <td>35.000000</td>\n",
       "      <td>68.0</td>\n",
       "      <td>No</td>\n",
       "      <td>A2</td>\n",
       "      <td>False</td>\n",
       "    </tr>\n",
       "    <tr>\n",
       "      <th>3</th>\n",
       "      <td>05/08/2021</td>\n",
       "      <td>32.000000</td>\n",
       "      <td>64.0</td>\n",
       "      <td>No</td>\n",
       "      <td>A3</td>\n",
       "      <td>False</td>\n",
       "    </tr>\n",
       "    <tr>\n",
       "      <th>4</th>\n",
       "      <td>06/08/2021</td>\n",
       "      <td>31.000000</td>\n",
       "      <td>64.0</td>\n",
       "      <td>No</td>\n",
       "      <td>A1</td>\n",
       "      <td>False</td>\n",
       "    </tr>\n",
       "    <tr>\n",
       "      <th>5</th>\n",
       "      <td>07/08/2021</td>\n",
       "      <td>30.000000</td>\n",
       "      <td>62.0</td>\n",
       "      <td>No</td>\n",
       "      <td>A1</td>\n",
       "      <td>False</td>\n",
       "    </tr>\n",
       "    <tr>\n",
       "      <th>6</th>\n",
       "      <td>08/08/2021</td>\n",
       "      <td>29.000000</td>\n",
       "      <td>62.0</td>\n",
       "      <td>No</td>\n",
       "      <td>A1</td>\n",
       "      <td>False</td>\n",
       "    </tr>\n",
       "    <tr>\n",
       "      <th>7</th>\n",
       "      <td>09/08/2021</td>\n",
       "      <td>28.000000</td>\n",
       "      <td>60.0</td>\n",
       "      <td>Yes</td>\n",
       "      <td>A3</td>\n",
       "      <td>False</td>\n",
       "    </tr>\n",
       "    <tr>\n",
       "      <th>8</th>\n",
       "      <td>10/08/2021</td>\n",
       "      <td>30.000000</td>\n",
       "      <td>64.0</td>\n",
       "      <td>No</td>\n",
       "      <td>A2</td>\n",
       "      <td>False</td>\n",
       "    </tr>\n",
       "    <tr>\n",
       "      <th>9</th>\n",
       "      <td>11/08/2021</td>\n",
       "      <td>33.000000</td>\n",
       "      <td>66.0</td>\n",
       "      <td>No</td>\n",
       "      <td>A2</td>\n",
       "      <td>False</td>\n",
       "    </tr>\n",
       "    <tr>\n",
       "      <th>10</th>\n",
       "      <td>12/08/2021</td>\n",
       "      <td>33.000000</td>\n",
       "      <td>66.0</td>\n",
       "      <td>No</td>\n",
       "      <td>A2</td>\n",
       "      <td>False</td>\n",
       "    </tr>\n",
       "    <tr>\n",
       "      <th>11</th>\n",
       "      <td>13/08/2021</td>\n",
       "      <td>33.000000</td>\n",
       "      <td>66.0</td>\n",
       "      <td>No</td>\n",
       "      <td>A2</td>\n",
       "      <td>False</td>\n",
       "    </tr>\n",
       "    <tr>\n",
       "      <th>12</th>\n",
       "      <td>14/08/2021</td>\n",
       "      <td>33.000000</td>\n",
       "      <td>66.0</td>\n",
       "      <td>No</td>\n",
       "      <td>A3</td>\n",
       "      <td>False</td>\n",
       "    </tr>\n",
       "    <tr>\n",
       "      <th>13</th>\n",
       "      <td>15/08/2021</td>\n",
       "      <td>36.000000</td>\n",
       "      <td>68.0</td>\n",
       "      <td>No</td>\n",
       "      <td>A2</td>\n",
       "      <td>False</td>\n",
       "    </tr>\n",
       "    <tr>\n",
       "      <th>14</th>\n",
       "      <td>16/08/2021</td>\n",
       "      <td>38.000000</td>\n",
       "      <td>70.0</td>\n",
       "      <td>No</td>\n",
       "      <td>A3</td>\n",
       "      <td>True</td>\n",
       "    </tr>\n",
       "    <tr>\n",
       "      <th>15</th>\n",
       "      <td>17/08/2021</td>\n",
       "      <td>40.000000</td>\n",
       "      <td>72.0</td>\n",
       "      <td>Yes</td>\n",
       "      <td>A1</td>\n",
       "      <td>True</td>\n",
       "    </tr>\n",
       "    <tr>\n",
       "      <th>16</th>\n",
       "      <td>18/08/2021</td>\n",
       "      <td>41.000000</td>\n",
       "      <td>74.0</td>\n",
       "      <td>No</td>\n",
       "      <td>A1</td>\n",
       "      <td>True</td>\n",
       "    </tr>\n",
       "    <tr>\n",
       "      <th>17</th>\n",
       "      <td>19/08/2021</td>\n",
       "      <td>41.000000</td>\n",
       "      <td>74.0</td>\n",
       "      <td>No</td>\n",
       "      <td>A1</td>\n",
       "      <td>True</td>\n",
       "    </tr>\n",
       "    <tr>\n",
       "      <th>18</th>\n",
       "      <td>20/08/2021</td>\n",
       "      <td>41.000000</td>\n",
       "      <td>76.0</td>\n",
       "      <td>No</td>\n",
       "      <td>A1</td>\n",
       "      <td>True</td>\n",
       "    </tr>\n",
       "    <tr>\n",
       "      <th>19</th>\n",
       "      <td>21/08/2021</td>\n",
       "      <td>38.000000</td>\n",
       "      <td>70.0</td>\n",
       "      <td>No</td>\n",
       "      <td>A1</td>\n",
       "      <td>True</td>\n",
       "    </tr>\n",
       "    <tr>\n",
       "      <th>20</th>\n",
       "      <td>22/08/2021</td>\n",
       "      <td>36.000000</td>\n",
       "      <td>68.0</td>\n",
       "      <td>No</td>\n",
       "      <td>A3</td>\n",
       "      <td>False</td>\n",
       "    </tr>\n",
       "    <tr>\n",
       "      <th>21</th>\n",
       "      <td>23/08/2021</td>\n",
       "      <td>36.000000</td>\n",
       "      <td>70.0</td>\n",
       "      <td>No</td>\n",
       "      <td>A2</td>\n",
       "      <td>True</td>\n",
       "    </tr>\n",
       "    <tr>\n",
       "      <th>22</th>\n",
       "      <td>24/08/2021</td>\n",
       "      <td>35.000000</td>\n",
       "      <td>68.0</td>\n",
       "      <td>No</td>\n",
       "      <td>A2</td>\n",
       "      <td>False</td>\n",
       "    </tr>\n",
       "    <tr>\n",
       "      <th>23</th>\n",
       "      <td>25/08/2021</td>\n",
       "      <td>35.038462</td>\n",
       "      <td>42.0</td>\n",
       "      <td>No</td>\n",
       "      <td>A1</td>\n",
       "      <td>False</td>\n",
       "    </tr>\n",
       "    <tr>\n",
       "      <th>25</th>\n",
       "      <td>27/08/2021</td>\n",
       "      <td>40.000000</td>\n",
       "      <td>72.0</td>\n",
       "      <td>Yes</td>\n",
       "      <td>A3</td>\n",
       "      <td>True</td>\n",
       "    </tr>\n",
       "    <tr>\n",
       "      <th>26</th>\n",
       "      <td>28/08/2021</td>\n",
       "      <td>39.000000</td>\n",
       "      <td>70.0</td>\n",
       "      <td>No</td>\n",
       "      <td>A2</td>\n",
       "      <td>True</td>\n",
       "    </tr>\n",
       "  </tbody>\n",
       "</table>\n",
       "</div>"
      ],
      "text/plain": [
       "          Date  Temperature  Sales BreakDown Area  QuotaMet\n",
       "0   02/08/2021    40.000000   72.0        No   A1      True\n",
       "1   03/08/2021    35.000000   68.0        No   A2     False\n",
       "2   04/08/2021    35.000000   68.0        No   A2     False\n",
       "3   05/08/2021    32.000000   64.0        No   A3     False\n",
       "4   06/08/2021    31.000000   64.0        No   A1     False\n",
       "5   07/08/2021    30.000000   62.0        No   A1     False\n",
       "6   08/08/2021    29.000000   62.0        No   A1     False\n",
       "7   09/08/2021    28.000000   60.0       Yes   A3     False\n",
       "8   10/08/2021    30.000000   64.0        No   A2     False\n",
       "9   11/08/2021    33.000000   66.0        No   A2     False\n",
       "10  12/08/2021    33.000000   66.0        No   A2     False\n",
       "11  13/08/2021    33.000000   66.0        No   A2     False\n",
       "12  14/08/2021    33.000000   66.0        No   A3     False\n",
       "13  15/08/2021    36.000000   68.0        No   A2     False\n",
       "14  16/08/2021    38.000000   70.0        No   A3      True\n",
       "15  17/08/2021    40.000000   72.0       Yes   A1      True\n",
       "16  18/08/2021    41.000000   74.0        No   A1      True\n",
       "17  19/08/2021    41.000000   74.0        No   A1      True\n",
       "18  20/08/2021    41.000000   76.0        No   A1      True\n",
       "19  21/08/2021    38.000000   70.0        No   A1      True\n",
       "20  22/08/2021    36.000000   68.0        No   A3     False\n",
       "21  23/08/2021    36.000000   70.0        No   A2      True\n",
       "22  24/08/2021    35.000000   68.0        No   A2     False\n",
       "23  25/08/2021    35.038462   42.0        No   A1     False\n",
       "25  27/08/2021    40.000000   72.0       Yes   A3      True\n",
       "26  28/08/2021    39.000000   70.0        No   A2      True"
      ]
     },
     "execution_count": 194,
     "metadata": {},
     "output_type": "execute_result"
    }
   ],
   "source": [
    "quota = pd.Series(df_sales.Sales >= 70)\n",
    "df_sales = pd.concat([df_sales, quota.rename(\"QuotaMet\")], axis=1)\n",
    "df_sales"
   ]
  },
  {
   "cell_type": "markdown",
   "metadata": {
    "slideshow": {
     "slide_type": "subslide"
    }
   },
   "source": [
    "Since DataFrames are tabular, different kinds of data analytics can be performed (similar to ones that we perform in SQL).\n",
    "\n",
    "For instance, we can use `groupby` to group records based on their Quota column, and count the number of days in each group."
   ]
  },
  {
   "cell_type": "code",
   "execution_count": 195,
   "metadata": {
    "slideshow": {
     "slide_type": "fragment"
    }
   },
   "outputs": [
    {
     "name": "stdout",
     "output_type": "stream",
     "text": [
      "QuotaMet\n",
      "False    16\n",
      "True     10\n",
      "Name: Date, dtype: int64\n"
     ]
    }
   ],
   "source": [
    "print(df_sales.groupby(df_sales.QuotaMet).Date.count())\n"
   ]
  },
  {
   "cell_type": "markdown",
   "metadata": {
    "slideshow": {
     "slide_type": "subslide"
    }
   },
   "source": [
    "For each, group (Quota Met or Quota Not Met) we can also calculate the mean temperature, and sales."
   ]
  },
  {
   "cell_type": "code",
   "execution_count": 196,
   "metadata": {
    "slideshow": {
     "slide_type": "fragment"
    }
   },
   "outputs": [
    {
     "name": "stdout",
     "output_type": "stream",
     "text": [
      "          Temperature   Sales\n",
      "QuotaMet                     \n",
      "False       32.752404  63.875\n",
      "True        39.400000  72.000\n"
     ]
    }
   ],
   "source": [
    "print(df_sales.groupby(df_sales.QuotaMet)[[\"Temperature\", \"Sales\"]].mean())"
   ]
  },
  {
   "cell_type": "markdown",
   "metadata": {
    "slideshow": {
     "slide_type": "subslide"
    }
   },
   "source": [
    "Many DataFrame operations return a DataFrame, so if you want to modify the data, and keep the same variable, re-assign it to itself."
   ]
  },
  {
   "cell_type": "code",
   "execution_count": 199,
   "metadata": {
    "slideshow": {
     "slide_type": "fragment"
    }
   },
   "outputs": [
    {
     "data": {
      "text/html": [
       "<div>\n",
       "<style scoped>\n",
       "    .dataframe tbody tr th:only-of-type {\n",
       "        vertical-align: middle;\n",
       "    }\n",
       "\n",
       "    .dataframe tbody tr th {\n",
       "        vertical-align: top;\n",
       "    }\n",
       "\n",
       "    .dataframe thead th {\n",
       "        text-align: right;\n",
       "    }\n",
       "</style>\n",
       "<table border=\"1\" class=\"dataframe\">\n",
       "  <thead>\n",
       "    <tr style=\"text-align: right;\">\n",
       "      <th></th>\n",
       "      <th>Date</th>\n",
       "      <th>Temperature</th>\n",
       "      <th>Sales</th>\n",
       "      <th>BreakDown</th>\n",
       "      <th>Area</th>\n",
       "      <th>QuotaMet</th>\n",
       "    </tr>\n",
       "  </thead>\n",
       "  <tbody>\n",
       "    <tr>\n",
       "      <th>18</th>\n",
       "      <td>20/08/2021</td>\n",
       "      <td>41.000000</td>\n",
       "      <td>76.0</td>\n",
       "      <td>No</td>\n",
       "      <td>A1</td>\n",
       "      <td>True</td>\n",
       "    </tr>\n",
       "    <tr>\n",
       "      <th>16</th>\n",
       "      <td>18/08/2021</td>\n",
       "      <td>41.000000</td>\n",
       "      <td>74.0</td>\n",
       "      <td>No</td>\n",
       "      <td>A1</td>\n",
       "      <td>True</td>\n",
       "    </tr>\n",
       "    <tr>\n",
       "      <th>17</th>\n",
       "      <td>19/08/2021</td>\n",
       "      <td>41.000000</td>\n",
       "      <td>74.0</td>\n",
       "      <td>No</td>\n",
       "      <td>A1</td>\n",
       "      <td>True</td>\n",
       "    </tr>\n",
       "    <tr>\n",
       "      <th>0</th>\n",
       "      <td>02/08/2021</td>\n",
       "      <td>40.000000</td>\n",
       "      <td>72.0</td>\n",
       "      <td>No</td>\n",
       "      <td>A1</td>\n",
       "      <td>True</td>\n",
       "    </tr>\n",
       "    <tr>\n",
       "      <th>25</th>\n",
       "      <td>27/08/2021</td>\n",
       "      <td>40.000000</td>\n",
       "      <td>72.0</td>\n",
       "      <td>Yes</td>\n",
       "      <td>A3</td>\n",
       "      <td>True</td>\n",
       "    </tr>\n",
       "    <tr>\n",
       "      <th>15</th>\n",
       "      <td>17/08/2021</td>\n",
       "      <td>40.000000</td>\n",
       "      <td>72.0</td>\n",
       "      <td>Yes</td>\n",
       "      <td>A1</td>\n",
       "      <td>True</td>\n",
       "    </tr>\n",
       "    <tr>\n",
       "      <th>14</th>\n",
       "      <td>16/08/2021</td>\n",
       "      <td>38.000000</td>\n",
       "      <td>70.0</td>\n",
       "      <td>No</td>\n",
       "      <td>A3</td>\n",
       "      <td>True</td>\n",
       "    </tr>\n",
       "    <tr>\n",
       "      <th>21</th>\n",
       "      <td>23/08/2021</td>\n",
       "      <td>36.000000</td>\n",
       "      <td>70.0</td>\n",
       "      <td>No</td>\n",
       "      <td>A2</td>\n",
       "      <td>True</td>\n",
       "    </tr>\n",
       "    <tr>\n",
       "      <th>19</th>\n",
       "      <td>21/08/2021</td>\n",
       "      <td>38.000000</td>\n",
       "      <td>70.0</td>\n",
       "      <td>No</td>\n",
       "      <td>A1</td>\n",
       "      <td>True</td>\n",
       "    </tr>\n",
       "    <tr>\n",
       "      <th>26</th>\n",
       "      <td>28/08/2021</td>\n",
       "      <td>39.000000</td>\n",
       "      <td>70.0</td>\n",
       "      <td>No</td>\n",
       "      <td>A2</td>\n",
       "      <td>True</td>\n",
       "    </tr>\n",
       "    <tr>\n",
       "      <th>22</th>\n",
       "      <td>24/08/2021</td>\n",
       "      <td>35.000000</td>\n",
       "      <td>68.0</td>\n",
       "      <td>No</td>\n",
       "      <td>A2</td>\n",
       "      <td>False</td>\n",
       "    </tr>\n",
       "    <tr>\n",
       "      <th>13</th>\n",
       "      <td>15/08/2021</td>\n",
       "      <td>36.000000</td>\n",
       "      <td>68.0</td>\n",
       "      <td>No</td>\n",
       "      <td>A2</td>\n",
       "      <td>False</td>\n",
       "    </tr>\n",
       "    <tr>\n",
       "      <th>2</th>\n",
       "      <td>04/08/2021</td>\n",
       "      <td>35.000000</td>\n",
       "      <td>68.0</td>\n",
       "      <td>No</td>\n",
       "      <td>A2</td>\n",
       "      <td>False</td>\n",
       "    </tr>\n",
       "    <tr>\n",
       "      <th>20</th>\n",
       "      <td>22/08/2021</td>\n",
       "      <td>36.000000</td>\n",
       "      <td>68.0</td>\n",
       "      <td>No</td>\n",
       "      <td>A3</td>\n",
       "      <td>False</td>\n",
       "    </tr>\n",
       "    <tr>\n",
       "      <th>1</th>\n",
       "      <td>03/08/2021</td>\n",
       "      <td>35.000000</td>\n",
       "      <td>68.0</td>\n",
       "      <td>No</td>\n",
       "      <td>A2</td>\n",
       "      <td>False</td>\n",
       "    </tr>\n",
       "    <tr>\n",
       "      <th>10</th>\n",
       "      <td>12/08/2021</td>\n",
       "      <td>33.000000</td>\n",
       "      <td>66.0</td>\n",
       "      <td>No</td>\n",
       "      <td>A2</td>\n",
       "      <td>False</td>\n",
       "    </tr>\n",
       "    <tr>\n",
       "      <th>11</th>\n",
       "      <td>13/08/2021</td>\n",
       "      <td>33.000000</td>\n",
       "      <td>66.0</td>\n",
       "      <td>No</td>\n",
       "      <td>A2</td>\n",
       "      <td>False</td>\n",
       "    </tr>\n",
       "    <tr>\n",
       "      <th>12</th>\n",
       "      <td>14/08/2021</td>\n",
       "      <td>33.000000</td>\n",
       "      <td>66.0</td>\n",
       "      <td>No</td>\n",
       "      <td>A3</td>\n",
       "      <td>False</td>\n",
       "    </tr>\n",
       "    <tr>\n",
       "      <th>9</th>\n",
       "      <td>11/08/2021</td>\n",
       "      <td>33.000000</td>\n",
       "      <td>66.0</td>\n",
       "      <td>No</td>\n",
       "      <td>A2</td>\n",
       "      <td>False</td>\n",
       "    </tr>\n",
       "    <tr>\n",
       "      <th>8</th>\n",
       "      <td>10/08/2021</td>\n",
       "      <td>30.000000</td>\n",
       "      <td>64.0</td>\n",
       "      <td>No</td>\n",
       "      <td>A2</td>\n",
       "      <td>False</td>\n",
       "    </tr>\n",
       "    <tr>\n",
       "      <th>4</th>\n",
       "      <td>06/08/2021</td>\n",
       "      <td>31.000000</td>\n",
       "      <td>64.0</td>\n",
       "      <td>No</td>\n",
       "      <td>A1</td>\n",
       "      <td>False</td>\n",
       "    </tr>\n",
       "    <tr>\n",
       "      <th>3</th>\n",
       "      <td>05/08/2021</td>\n",
       "      <td>32.000000</td>\n",
       "      <td>64.0</td>\n",
       "      <td>No</td>\n",
       "      <td>A3</td>\n",
       "      <td>False</td>\n",
       "    </tr>\n",
       "    <tr>\n",
       "      <th>6</th>\n",
       "      <td>08/08/2021</td>\n",
       "      <td>29.000000</td>\n",
       "      <td>62.0</td>\n",
       "      <td>No</td>\n",
       "      <td>A1</td>\n",
       "      <td>False</td>\n",
       "    </tr>\n",
       "    <tr>\n",
       "      <th>5</th>\n",
       "      <td>07/08/2021</td>\n",
       "      <td>30.000000</td>\n",
       "      <td>62.0</td>\n",
       "      <td>No</td>\n",
       "      <td>A1</td>\n",
       "      <td>False</td>\n",
       "    </tr>\n",
       "    <tr>\n",
       "      <th>7</th>\n",
       "      <td>09/08/2021</td>\n",
       "      <td>28.000000</td>\n",
       "      <td>60.0</td>\n",
       "      <td>Yes</td>\n",
       "      <td>A3</td>\n",
       "      <td>False</td>\n",
       "    </tr>\n",
       "    <tr>\n",
       "      <th>23</th>\n",
       "      <td>25/08/2021</td>\n",
       "      <td>35.038462</td>\n",
       "      <td>42.0</td>\n",
       "      <td>No</td>\n",
       "      <td>A1</td>\n",
       "      <td>False</td>\n",
       "    </tr>\n",
       "  </tbody>\n",
       "</table>\n",
       "</div>"
      ],
      "text/plain": [
       "          Date  Temperature  Sales BreakDown Area  QuotaMet\n",
       "18  20/08/2021    41.000000   76.0        No   A1      True\n",
       "16  18/08/2021    41.000000   74.0        No   A1      True\n",
       "17  19/08/2021    41.000000   74.0        No   A1      True\n",
       "0   02/08/2021    40.000000   72.0        No   A1      True\n",
       "25  27/08/2021    40.000000   72.0       Yes   A3      True\n",
       "15  17/08/2021    40.000000   72.0       Yes   A1      True\n",
       "14  16/08/2021    38.000000   70.0        No   A3      True\n",
       "21  23/08/2021    36.000000   70.0        No   A2      True\n",
       "19  21/08/2021    38.000000   70.0        No   A1      True\n",
       "26  28/08/2021    39.000000   70.0        No   A2      True\n",
       "22  24/08/2021    35.000000   68.0        No   A2     False\n",
       "13  15/08/2021    36.000000   68.0        No   A2     False\n",
       "2   04/08/2021    35.000000   68.0        No   A2     False\n",
       "20  22/08/2021    36.000000   68.0        No   A3     False\n",
       "1   03/08/2021    35.000000   68.0        No   A2     False\n",
       "10  12/08/2021    33.000000   66.0        No   A2     False\n",
       "11  13/08/2021    33.000000   66.0        No   A2     False\n",
       "12  14/08/2021    33.000000   66.0        No   A3     False\n",
       "9   11/08/2021    33.000000   66.0        No   A2     False\n",
       "8   10/08/2021    30.000000   64.0        No   A2     False\n",
       "4   06/08/2021    31.000000   64.0        No   A1     False\n",
       "3   05/08/2021    32.000000   64.0        No   A3     False\n",
       "6   08/08/2021    29.000000   62.0        No   A1     False\n",
       "5   07/08/2021    30.000000   62.0        No   A1     False\n",
       "7   09/08/2021    28.000000   60.0       Yes   A3     False\n",
       "23  25/08/2021    35.038462   42.0        No   A1     False"
      ]
     },
     "execution_count": 199,
     "metadata": {},
     "output_type": "execute_result"
    }
   ],
   "source": [
    "df_sales = df_sales.sort_values(\"Sales\", ascending=False)\n",
    "df_sales"
   ]
  },
  {
   "cell_type": "markdown",
   "metadata": {
    "slideshow": {
     "slide_type": "slide"
    }
   },
   "source": [
    "Thank you\n",
    "***"
   ]
  }
 ],
 "metadata": {
  "kernelspec": {
   "display_name": "Python 3.10.4 ('aci')",
   "language": "python",
   "name": "python3"
  },
  "language_info": {
   "codemirror_mode": {
    "name": "ipython",
    "version": 3
   },
   "file_extension": ".py",
   "mimetype": "text/x-python",
   "name": "python",
   "nbconvert_exporter": "python",
   "pygments_lexer": "ipython3",
   "version": "3.9.13"
  },
  "orig_nbformat": 4,
  "vscode": {
   "interpreter": {
    "hash": "a77ce7f27ea8dfe1608105db27af771d180d493f4c1d8f79fe6656595f97657f"
   }
  }
 },
 "nbformat": 4,
 "nbformat_minor": 2
}

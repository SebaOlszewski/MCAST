{
 "cells": [
  {
   "cell_type": "code",
   "execution_count": 1,
   "metadata": {},
   "outputs": [
    {
     "ename": "error",
     "evalue": "OpenCV(4.8.1) D:\\a\\opencv-python\\opencv-python\\opencv\\modules\\highgui\\src\\window_w32.cpp:2561: error: (-27:Null pointer) NULL window: 'Brightened_Image' in function 'cvGetTrackbarPos'\n",
     "output_type": "error",
     "traceback": [
      "\u001b[1;31m---------------------------------------------------------------------------\u001b[0m",
      "\u001b[1;31merror\u001b[0m                                     Traceback (most recent call last)",
      "\u001b[1;32mc:\\Users\\Sebastian\\Documents\\git\\MCAST\\ImageProcessingAndComputerVision\\week2\\camera_image_brightness.ipynb Cell 1\u001b[0m line \u001b[0;36m4\n\u001b[0;32m     <a href='vscode-notebook-cell:/c%3A/Users/Sebastian/Documents/git/MCAST/ImageProcessingAndComputerVision/week2/camera_image_brightness.ipynb#W0sZmlsZQ%3D%3D?line=43'>44</a>\u001b[0m     \u001b[39mprint\u001b[39m(\u001b[39m\"\u001b[39m\u001b[39mCan\u001b[39m\u001b[39m'\u001b[39m\u001b[39mt receive frame (Stream end?). Exiting ...\u001b[39m\u001b[39m\"\u001b[39m)\n\u001b[0;32m     <a href='vscode-notebook-cell:/c%3A/Users/Sebastian/Documents/git/MCAST/ImageProcessingAndComputerVision/week2/camera_image_brightness.ipynb#W0sZmlsZQ%3D%3D?line=44'>45</a>\u001b[0m     \u001b[39mbreak\u001b[39;00m\n\u001b[1;32m---> <a href='vscode-notebook-cell:/c%3A/Users/Sebastian/Documents/git/MCAST/ImageProcessingAndComputerVision/week2/camera_image_brightness.ipynb#W0sZmlsZQ%3D%3D?line=47'>48</a>\u001b[0m brightness_factor \u001b[39m=\u001b[39m cv2\u001b[39m.\u001b[39;49mgetTrackbarPos(\u001b[39m\"\u001b[39;49m\u001b[39mBrightened_Factor\u001b[39;49m\u001b[39m\"\u001b[39;49m, \u001b[39m\"\u001b[39;49m\u001b[39mBrightened_Image\u001b[39;49m\u001b[39m\"\u001b[39;49m)\n\u001b[0;32m     <a href='vscode-notebook-cell:/c%3A/Users/Sebastian/Documents/git/MCAST/ImageProcessingAndComputerVision/week2/camera_image_brightness.ipynb#W0sZmlsZQ%3D%3D?line=48'>49</a>\u001b[0m brightenedBGR \u001b[39m=\u001b[39m increase_brightness(frame, brightness_factor)\n\u001b[0;32m     <a href='vscode-notebook-cell:/c%3A/Users/Sebastian/Documents/git/MCAST/ImageProcessingAndComputerVision/week2/camera_image_brightness.ipynb#W0sZmlsZQ%3D%3D?line=49'>50</a>\u001b[0m \u001b[39m#rightened_rgb = cv2.cvtColor(brightenedBGR, cv2.COLOR_BgR2RGB)\u001b[39;00m\n",
      "\u001b[1;31merror\u001b[0m: OpenCV(4.8.1) D:\\a\\opencv-python\\opencv-python\\opencv\\modules\\highgui\\src\\window_w32.cpp:2561: error: (-27:Null pointer) NULL window: 'Brightened_Image' in function 'cvGetTrackbarPos'\n"
     ]
    }
   ],
   "source": [
    "import numpy as np\n",
    "import matplotlib.pyplot as plt\n",
    "import cv2\n",
    "import cv2 as cv\n",
    "\n",
    "def nothing(x):\n",
    "    pass\n",
    "\n",
    "def increase_brightness(imBGR, value):\n",
    "    hsv = cv2.cvtColor(imBGR, cv2.COLOR_BGR2HSV)\n",
    "    h, s, v = cv2.split(hsv)\n",
    "\n",
    "    lim = 255 - value\n",
    "    v[v > lim] = 255\n",
    "    v[v <= lim] += value\n",
    "    final_hsv = cv2.merge((h, s, v))\n",
    "\n",
    "    imBGR = cv2.cvtColor(final_hsv, cv2.COLOR_HSV2BGR)\n",
    "    imRGB = cv2.cvtColor(imBGR, cv2.COLOR_BGR2RGB)\n",
    "    #R_min, G_min, B_min = cv2.split(min_RGB_img)\n",
    "    #R_max, G_max, B_max = cv2.split(max_RGB_img)\n",
    "    LowerRegion = np.array([0, 0, 0], np.uint8)\n",
    "    upperRegion = np.array([255, 255, 255], np.uint8)\n",
    "\n",
    "    mask = cv2.inRange(imRGB, LowerRegion, upperRegion)    \n",
    "    result = cv2.bitwise_and(imRGB, imRGB, mask = mask)\n",
    "    \n",
    "    imBGR = cv2.cvtColor(result, cv2.COLOR_RGB2BGR)\n",
    "    return imBGR\n",
    "\n",
    "\n",
    "\n",
    "cv2.namedWindow(\"Brightened_Image\")\n",
    "cv2.createTrackbar(\"Brightened_Factor\",\"Brightened_Image\", 0, 255, nothing)\n",
    "\n",
    "\n",
    "cap = cv2.VideoCapture(0)\n",
    "if not cap.isOpened():\n",
    "    print(\"cannot open camera\")\n",
    "    exit()\n",
    "while(1):\n",
    "    ret, frame = cap.read()\n",
    "    if not ret:\n",
    "        print(\"Can't receive frame (Stream end?). Exiting ...\")\n",
    "        break\n",
    "\n",
    "\n",
    "    brightness_factor = cv2.getTrackbarPos(\"Brightened_Factor\", \"Brightened_Image\")\n",
    "    brightenedBGR = increase_brightness(frame, brightness_factor)\n",
    "    #rightened_rgb = cv2.cvtColor(brightenedBGR, cv2.COLOR_BgR2RGB)\n",
    "    brightenedBGR_scaled = cv2.resize(brightenedBGR, [600,300])\n",
    "    cv2.imshow('Brightened_Image', brightenedBGR)\n",
    "\n",
    "\n",
    "    if cv2.waitKey(1) & 0xFF == 27:\n",
    "        break\n",
    "\n",
    "\n",
    "cv2.destroyAllWindows               \n",
    "\n",
    "\n",
    "\n"
   ]
  }
 ],
 "metadata": {
  "kernelspec": {
   "display_name": "Python 3",
   "language": "python",
   "name": "python3"
  },
  "language_info": {
   "codemirror_mode": {
    "name": "ipython",
    "version": 3
   },
   "file_extension": ".py",
   "mimetype": "text/x-python",
   "name": "python",
   "nbconvert_exporter": "python",
   "pygments_lexer": "ipython3",
   "version": "3.9.13"
  }
 },
 "nbformat": 4,
 "nbformat_minor": 2
}

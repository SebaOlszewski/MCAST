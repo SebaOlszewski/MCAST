{
 "cells": [
  {
   "cell_type": "code",
   "execution_count": 112,
   "metadata": {},
   "outputs": [
    {
     "name": "stdout",
     "output_type": "stream",
     "text": [
      "[1 2 3]\n",
      "[[ 1  2  3  4]\n",
      " [ 5  6  7  8]\n",
      " [ 9 10 11 12]]\n",
      "(3, 4)\n",
      "[5 6 7 8]\n",
      "[ 2  6 10]\n",
      "[5 6]\n",
      "[[ 2  3  4]\n",
      " [ 6  7  8]\n",
      " [10 11 12]]\n",
      "[[ 4  3  2  1]\n",
      " [ 8  7  6  5]\n",
      " [12 11 10  9]]\n"
     ]
    }
   ],
   "source": [
    "import numpy as np\n",
    "import matplotlib.pyplot as plp\n",
    "\n",
    "#creates a vector \n",
    "MyVector = np.array([1,2,3])\n",
    "\n",
    "print(MyVector)\n",
    "\n",
    "# creates a matrix\n",
    "MyMatrix = np.array([[1, 2, 3, 4],[5, 6, 7, 8],[9, 10, 11, 12]])\n",
    "print(MyMatrix)\n",
    "print(MyMatrix.shape)\n",
    "\n",
    "# displaying the given element\n",
    "print(MyMatrix[1,:])\n",
    "\n",
    "#displaying the given row eg: 2nd row\n",
    "print(MyMatrix[:,1])\n",
    "\n",
    "#display the first two elements in the second row\n",
    "print(MyMatrix[1,[0,1]])\n",
    "\n",
    "#printing last three columns\n",
    "#print(MyMatrix[:,[1,2,3]])\n",
    "print(MyMatrix[:,-3:]) # move 3 back and all after that\n",
    "\n",
    "#read the matrix backwards (flip vertical)\n",
    "print(MyMatrix[:,::-1])"
   ]
  },
  {
   "cell_type": "code",
   "execution_count": 113,
   "metadata": {},
   "outputs": [
    {
     "name": "stdout",
     "output_type": "stream",
     "text": [
      "[[112 201 219 242 128 185 123  59 200  47]\n",
      " [168 146 137 115 100 254 188 159 193 240]\n",
      " [188 182 183  58  37 106  24 212  31  39]\n",
      " [ 10  53 216 155  99 255 239 254  36 102]\n",
      " [ 97 153  38 213  54 231 109 182 133 236]\n",
      " [115  11 229  16  70 150  55  99  81  37]\n",
      " [144 242 222 194  97 122 194 180 150 229]\n",
      " [134 162  50 101  43 199 195  49 162 152]\n",
      " [ 25  66  35   0 139 245 122 221  32 128]\n",
      " [  6   8 247  21   6  95 255  43 161   8]]\n"
     ]
    },
    {
     "data": {
      "text/plain": [
       "<matplotlib.image.AxesImage at 0x123ecf26c10>"
      ]
     },
     "execution_count": 113,
     "metadata": {},
     "output_type": "execute_result"
    },
    {
     "data": {
      "image/png": "[encoded data removed]",
      "text/plain": [
       "<Figure size 640x480 with 1 Axes>"
      ]
     },
     "metadata": {},
     "output_type": "display_data"
    }
   ],
   "source": [
    "#generating a random 10x10 matrix of units8 intigers\n",
    "rand_matrix = np.random.randint(0, 256, size = [10, 10], dtype='uint8')\n",
    "print(rand_matrix)\n",
    "\n",
    "plp.imshow(rand_matrix, cmap='gray', vmin=0, vmax=255)\n"
   ]
  }
 ],
 "metadata": {
  "kernelspec": {
   "display_name": "Python 3",
   "language": "python",
   "name": "python3"
  },
  "language_info": {
   "codemirror_mode": {
    "name": "ipython",
    "version": 3
   },
   "file_extension": ".py",
   "mimetype": "text/x-python",
   "name": "python",
   "nbconvert_exporter": "python",
   "pygments_lexer": "ipython3",
   "version": "3.9.13"
  }
 },
 "nbformat": 4,
 "nbformat_minor": 2
}
